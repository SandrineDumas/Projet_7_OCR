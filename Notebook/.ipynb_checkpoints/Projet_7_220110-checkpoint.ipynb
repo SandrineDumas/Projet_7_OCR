{
 "cells": [
  {
   "cell_type": "code",
   "execution_count": 1,
   "metadata": {},
   "outputs": [],
   "source": [
    "import pandas as pd\n",
    "import matplotlib.pyplot as plt\n",
    "import seaborn as sns\n",
    "import numpy as np\n",
    "import re\n",
    "from matplotlib.pyplot import show\n",
    "from sklearn import metrics\n",
    "from sklearn.metrics import confusion_matrix, accuracy_score\n",
    "import pickle\n",
    "\n",
    "from timeit import default_timer as timer\n",
    "\n",
    "\n",
    "import gc\n",
    "import time\n",
    "from contextlib import contextmanager\n",
    "from lightgbm import LGBMClassifier\n",
    "from sklearn.metrics import roc_auc_score, roc_curve\n",
    "from sklearn.model_selection import KFold, StratifiedKFold\n",
    "import seaborn as sns\n",
    "import warnings\n",
    "warnings.simplefilter(action='ignore', category=FutureWarning)"
   ]
  },
  {
   "cell_type": "code",
   "execution_count": 2,
   "metadata": {},
   "outputs": [],
   "source": [
    "from sklearn.datasets import make_classification\n",
    "from sklearn.dummy import DummyClassifier\n",
    "from sklearn.linear_model import LogisticRegression\n",
    "from sklearn.neighbors import KNeighborsClassifier\n",
    "from sklearn.model_selection import train_test_split\n",
    "from sklearn.metrics import roc_auc_score\n",
    "from sklearn.metrics import roc_curve\n",
    "from sklearn.metrics import classification_report\n",
    "from matplotlib import pyplot as plt\n",
    "from sklearn.metrics import accuracy_score\n",
    "import numpy as np \n",
    "import pandas as pd"
   ]
  },
  {
   "cell_type": "code",
   "execution_count": 3,
   "metadata": {},
   "outputs": [],
   "source": [
    "from numpy import mean\n",
    "from numpy import std\n",
    "from pandas import read_csv\n",
    "from matplotlib import pyplot\n",
    "from sklearn.preprocessing import LabelEncoder\n",
    "from sklearn.preprocessing import OneHotEncoder\n",
    "from sklearn.preprocessing import MinMaxScaler, StandardScaler, Normalizer, MaxAbsScaler\n",
    "from sklearn.pipeline import Pipeline\n",
    "from sklearn.compose import ColumnTransformer\n",
    "from sklearn.model_selection import cross_val_score\n",
    "from sklearn.model_selection import RepeatedStratifiedKFold\n",
    "from sklearn.metrics import fbeta_score\n",
    "from sklearn.metrics import make_scorer\n",
    "from sklearn.neighbors import KNeighborsClassifier\n",
    "from sklearn.linear_model import LogisticRegression,SGDClassifier\n",
    "from sklearn.discriminant_analysis import LinearDiscriminantAnalysis\n",
    "from sklearn.naive_bayes import GaussianNB, MultinomialNB, BernoulliNB\n",
    "from sklearn.gaussian_process import GaussianProcessClassifier\n",
    "from sklearn.tree import DecisionTreeClassifier\n",
    "from sklearn.ensemble import RandomForestClassifier\n",
    "from sklearn.svm import SVC\n"
   ]
  },
  {
   "cell_type": "code",
   "execution_count": 4,
   "metadata": {},
   "outputs": [],
   "source": [
    "from sklearn.model_selection import train_test_split\n",
    "from sklearn.model_selection import RepeatedStratifiedKFold"
   ]
  },
  {
   "cell_type": "code",
   "execution_count": 5,
   "metadata": {},
   "outputs": [],
   "source": [
    "# Perform feature selection using a variance threshold\n",
    "from sklearn.feature_selection import VarianceThreshold"
   ]
  },
  {
   "cell_type": "code",
   "execution_count": 6,
   "metadata": {},
   "outputs": [],
   "source": [
    "from sklearn.model_selection import GridSearchCV"
   ]
  },
  {
   "cell_type": "code",
   "execution_count": 6,
   "metadata": {},
   "outputs": [
    {
     "ename": "NameError",
     "evalue": "name 'stop' is not defined",
     "output_type": "error",
     "traceback": [
      "\u001b[1;31m---------------------------------------------------------------------------\u001b[0m",
      "\u001b[1;31mNameError\u001b[0m                                 Traceback (most recent call last)",
      "\u001b[1;32m<ipython-input-6-4f76a9dad686>\u001b[0m in \u001b[0;36m<module>\u001b[1;34m\u001b[0m\n\u001b[1;32m----> 1\u001b[1;33m \u001b[0mstop\u001b[0m\u001b[1;33m\u001b[0m\u001b[1;33m\u001b[0m\u001b[0m\n\u001b[0m",
      "\u001b[1;31mNameError\u001b[0m: name 'stop' is not defined"
     ]
    }
   ],
   "source": [
    "stop"
   ]
  },
  {
   "cell_type": "markdown",
   "metadata": {},
   "source": [
    "# Lecture des bases de données"
   ]
  },
  {
   "cell_type": "code",
   "execution_count": null,
   "metadata": {},
   "outputs": [],
   "source": [
    "data_bureau = pd.read_csv(\"../Raw_data/bureau.csv\")\n",
    "data_bureau_balance = pd.read_csv(\"../Raw_data/bureau_balance.csv\")\n",
    "data_credit_card_balance = pd.read_csv(\"../Raw_data/credit_card_balance.csv\")\n",
    "data_HomeCredit_columns_description = pd.read_csv(\"../Raw_data/HomeCredit_columns_description.csv\", encoding = 'unicode_escape')\n",
    "data_installments_payments = pd.read_csv(\"../Raw_data/installments_payments.csv\")\n",
    "data_POS_CASH_balance = pd.read_csv(\"../Raw_data/POS_CASH_balance.csv\")\n",
    "data_previous_application = pd.read_csv(\"../Raw_data/previous_application.csv\")\n",
    "data_sample_submission = pd.read_csv(\"../Raw_data/sample_submission.csv\")\n",
    "\n",
    "data_application_test = pd.read_csv(\"../Raw_data/application_test.csv\")\n",
    "data_application_train = pd.read_csv(\"../Raw_data/application_train.csv\")"
   ]
  },
  {
   "cell_type": "markdown",
   "metadata": {},
   "source": [
    "## data_application_train"
   ]
  },
  {
   "cell_type": "code",
   "execution_count": null,
   "metadata": {
    "scrolled": true
   },
   "outputs": [],
   "source": [
    "data_application_train.head(5)"
   ]
  },
  {
   "cell_type": "code",
   "execution_count": null,
   "metadata": {},
   "outputs": [],
   "source": [
    "data_application_train.isna().mean()"
   ]
  },
  {
   "cell_type": "code",
   "execution_count": null,
   "metadata": {},
   "outputs": [],
   "source": [
    "data_application_train.shape"
   ]
  },
  {
   "cell_type": "code",
   "execution_count": null,
   "metadata": {},
   "outputs": [],
   "source": [
    "data_HomeCredit_columns_description[data_HomeCredit_columns_description[\"Table\"].str.contains(\"application_{train|test}.csv\")]"
   ]
  },
  {
   "cell_type": "code",
   "execution_count": null,
   "metadata": {},
   "outputs": [],
   "source": [
    "data_HomeCredit_columns_description.loc[1,\"Description\"]"
   ]
  },
  {
   "cell_type": "markdown",
   "metadata": {},
   "source": [
    "Le dataset train est totalement déséquilibré en faveur de 0 (91.9%).\n",
    "\n",
    "Le target 0 correspond aux clients qui n'ont pas de problèmes de paiement, ceux à qui on accordera plus facilement les prêts."
   ]
  },
  {
   "cell_type": "code",
   "execution_count": null,
   "metadata": {},
   "outputs": [],
   "source": [
    "data_plot_pie = data_application_train.groupby(\"TARGET\").count()\n",
    "data_plot_pie.plot.pie(y='SK_ID_CURR', figsize=(\n",
    "    5, 5), startangle=90, counterclock=False, autopct=\"%.1f%%\", legend=None, colors=plt.cm.tab10.colors)\n",
    "#plt.legend(loc=\"lower right\")\n",
    "plt.title(\"Répartition de Target\", fontsize=20, fontweight = 'bold')"
   ]
  },
  {
   "cell_type": "code",
   "execution_count": null,
   "metadata": {},
   "outputs": [],
   "source": [
    "data_target_histo = data_application_train.groupby(\"TARGET\")[\"SK_ID_CURR\"].count().sort_values(ascending=False)\n",
    "\n",
    "width = 0.7\n",
    "\n",
    "fig = plt.figure(figsize=[10, 6])\n",
    "\n",
    "ax = fig.add_subplot(111)\n",
    "\n",
    "total = float(len(data_application_train))\n",
    "\n",
    "data_target_histo.plot(kind='bar', edgecolor='white', color=plt.cm.tab10(np.arange(\n",
    "    len(data_target_histo))), width=width, ax=ax, rot=90, legend=None)\n",
    "\n",
    "for p in ax.patches:\n",
    "    height = p.get_height()\n",
    "    ax.text(p.get_x()+p.get_width()/2.,\n",
    "            height+2000,\n",
    "            '{:1.2f}%'.format(height/total*100),\n",
    "            ha=\"center\"\n",
    "            )\n",
    "\n",
    "plt.title(\"Répartition de Target\", fontsize=20, fontweight = 'bold')"
   ]
  },
  {
   "cell_type": "markdown",
   "metadata": {},
   "source": [
    "## data_application_test"
   ]
  },
  {
   "cell_type": "code",
   "execution_count": null,
   "metadata": {
    "scrolled": true
   },
   "outputs": [],
   "source": [
    "data_application_test.head(5)"
   ]
  },
  {
   "cell_type": "code",
   "execution_count": null,
   "metadata": {},
   "outputs": [],
   "source": [
    "data_application_test.isna().mean()"
   ]
  },
  {
   "cell_type": "code",
   "execution_count": null,
   "metadata": {},
   "outputs": [],
   "source": [
    "data_application_test.shape"
   ]
  },
  {
   "cell_type": "markdown",
   "metadata": {},
   "source": [
    "## data_HomeCredit_columns_description"
   ]
  },
  {
   "cell_type": "markdown",
   "metadata": {},
   "source": [
    "Ces données donnent les définitions des noms des colonnes de toutes les bases de données."
   ]
  },
  {
   "cell_type": "code",
   "execution_count": null,
   "metadata": {
    "scrolled": true
   },
   "outputs": [],
   "source": [
    "data_HomeCredit_columns_description.head(5)"
   ]
  },
  {
   "cell_type": "code",
   "execution_count": null,
   "metadata": {},
   "outputs": [],
   "source": [
    "data_HomeCredit_columns_description.isna().mean()"
   ]
  },
  {
   "cell_type": "code",
   "execution_count": null,
   "metadata": {},
   "outputs": [],
   "source": [
    "data_HomeCredit_columns_description.shape"
   ]
  },
  {
   "cell_type": "markdown",
   "metadata": {},
   "source": [
    "## data_bureau"
   ]
  },
  {
   "cell_type": "code",
   "execution_count": null,
   "metadata": {
    "scrolled": true
   },
   "outputs": [],
   "source": [
    "data_bureau.head(5)"
   ]
  },
  {
   "cell_type": "code",
   "execution_count": null,
   "metadata": {},
   "outputs": [],
   "source": [
    "data_bureau.isna().mean()"
   ]
  },
  {
   "cell_type": "code",
   "execution_count": null,
   "metadata": {},
   "outputs": [],
   "source": [
    "data_bureau.shape"
   ]
  },
  {
   "cell_type": "code",
   "execution_count": null,
   "metadata": {},
   "outputs": [],
   "source": [
    "len(data_bureau[\"SK_ID_CURR\"].unique())"
   ]
  },
  {
   "cell_type": "code",
   "execution_count": null,
   "metadata": {},
   "outputs": [],
   "source": [
    "data_bureau[\"SK_ID_CURR\"].value_counts()"
   ]
  },
  {
   "cell_type": "code",
   "execution_count": null,
   "metadata": {},
   "outputs": [],
   "source": [
    "len(data_bureau[\"SK_ID_BUREAU\"].unique())"
   ]
  },
  {
   "cell_type": "code",
   "execution_count": null,
   "metadata": {},
   "outputs": [],
   "source": [
    "data_HomeCredit_columns_description[data_HomeCredit_columns_description[\"Table\"].str.contains(\"bureau.csv\")]"
   ]
  },
  {
   "cell_type": "code",
   "execution_count": null,
   "metadata": {},
   "outputs": [],
   "source": [
    "# exemple avec SK_ID_CURR = 215354\n",
    "data_bureau[data_bureau[\"SK_ID_CURR\"] == 215354]"
   ]
  },
  {
   "cell_type": "markdown",
   "metadata": {},
   "source": [
    "## data_bureau_balance"
   ]
  },
  {
   "cell_type": "code",
   "execution_count": null,
   "metadata": {
    "scrolled": true
   },
   "outputs": [],
   "source": [
    "data_bureau_balance.head(5)"
   ]
  },
  {
   "cell_type": "code",
   "execution_count": null,
   "metadata": {},
   "outputs": [],
   "source": [
    "data_bureau_balance.isna().mean()"
   ]
  },
  {
   "cell_type": "code",
   "execution_count": null,
   "metadata": {},
   "outputs": [],
   "source": [
    "data_bureau_balance.shape"
   ]
  },
  {
   "cell_type": "code",
   "execution_count": null,
   "metadata": {},
   "outputs": [],
   "source": [
    "data_bureau_balance[\"STATUS\"].unique()"
   ]
  },
  {
   "cell_type": "code",
   "execution_count": null,
   "metadata": {},
   "outputs": [],
   "source": [
    "# exemple, tri sur SK_ID_BUREAU = 5715448\n",
    "# cet exemple sera utilisé par la suite\n",
    "\n",
    "data_bureau_balance[data_bureau_balance[\"SK_ID_BUREAU\"] == 5715448]"
   ]
  },
  {
   "cell_type": "code",
   "execution_count": null,
   "metadata": {},
   "outputs": [],
   "source": [
    "data_HomeCredit_columns_description[data_HomeCredit_columns_description[\"Table\"].str.contains(\"bureau_balance.csv\")]"
   ]
  },
  {
   "cell_type": "markdown",
   "metadata": {},
   "source": [
    "## data_credit_card_balance"
   ]
  },
  {
   "cell_type": "code",
   "execution_count": null,
   "metadata": {
    "scrolled": true
   },
   "outputs": [],
   "source": [
    "data_credit_card_balance.head(5)"
   ]
  },
  {
   "cell_type": "code",
   "execution_count": null,
   "metadata": {},
   "outputs": [],
   "source": [
    "data_credit_card_balance.isna().mean()"
   ]
  },
  {
   "cell_type": "code",
   "execution_count": null,
   "metadata": {},
   "outputs": [],
   "source": [
    "data_credit_card_balance.shape"
   ]
  },
  {
   "cell_type": "code",
   "execution_count": null,
   "metadata": {},
   "outputs": [],
   "source": [
    "data_HomeCredit_columns_description[data_HomeCredit_columns_description[\"Table\"].str.contains(\"credit_card_balance.csv\")]"
   ]
  },
  {
   "cell_type": "markdown",
   "metadata": {},
   "source": [
    "## data_installments_payments"
   ]
  },
  {
   "cell_type": "code",
   "execution_count": null,
   "metadata": {
    "scrolled": true
   },
   "outputs": [],
   "source": [
    "data_installments_payments.head(5)"
   ]
  },
  {
   "cell_type": "code",
   "execution_count": null,
   "metadata": {},
   "outputs": [],
   "source": [
    "data_installments_payments.isna().mean()"
   ]
  },
  {
   "cell_type": "code",
   "execution_count": null,
   "metadata": {},
   "outputs": [],
   "source": [
    "data_installments_payments.shape"
   ]
  },
  {
   "cell_type": "code",
   "execution_count": null,
   "metadata": {},
   "outputs": [],
   "source": [
    "data_HomeCredit_columns_description[data_HomeCredit_columns_description[\"Table\"].str.contains(\"installments_payments.csv\")]"
   ]
  },
  {
   "cell_type": "markdown",
   "metadata": {},
   "source": [
    "## data_POS_CASH_balance"
   ]
  },
  {
   "cell_type": "code",
   "execution_count": null,
   "metadata": {
    "scrolled": true
   },
   "outputs": [],
   "source": [
    "data_POS_CASH_balance.head(5)"
   ]
  },
  {
   "cell_type": "code",
   "execution_count": null,
   "metadata": {},
   "outputs": [],
   "source": [
    "data_POS_CASH_balance.isna().mean()"
   ]
  },
  {
   "cell_type": "code",
   "execution_count": null,
   "metadata": {},
   "outputs": [],
   "source": [
    "data_POS_CASH_balance.shape"
   ]
  },
  {
   "cell_type": "code",
   "execution_count": null,
   "metadata": {},
   "outputs": [],
   "source": [
    "data_HomeCredit_columns_description[data_HomeCredit_columns_description[\"Table\"].str.contains(\"POS_CASH_balance.csv\")]"
   ]
  },
  {
   "cell_type": "markdown",
   "metadata": {},
   "source": [
    "## data_previous_application"
   ]
  },
  {
   "cell_type": "code",
   "execution_count": null,
   "metadata": {
    "scrolled": true
   },
   "outputs": [],
   "source": [
    "data_previous_application.head(5)"
   ]
  },
  {
   "cell_type": "code",
   "execution_count": null,
   "metadata": {},
   "outputs": [],
   "source": [
    "data_previous_application.isna().mean()"
   ]
  },
  {
   "cell_type": "code",
   "execution_count": null,
   "metadata": {},
   "outputs": [],
   "source": [
    "data_previous_application.shape"
   ]
  },
  {
   "cell_type": "code",
   "execution_count": null,
   "metadata": {},
   "outputs": [],
   "source": [
    "data_HomeCredit_columns_description[data_HomeCredit_columns_description[\"Table\"].str.contains(\"previous_application.csv\")]"
   ]
  },
  {
   "cell_type": "markdown",
   "metadata": {},
   "source": [
    "## data_sample_submission"
   ]
  },
  {
   "cell_type": "code",
   "execution_count": null,
   "metadata": {
    "scrolled": true
   },
   "outputs": [],
   "source": [
    "data_sample_submission.head(5)"
   ]
  },
  {
   "cell_type": "code",
   "execution_count": null,
   "metadata": {},
   "outputs": [],
   "source": [
    "data_sample_submission.isna().mean()"
   ]
  },
  {
   "cell_type": "code",
   "execution_count": null,
   "metadata": {},
   "outputs": [],
   "source": [
    "data_sample_submission.shape"
   ]
  },
  {
   "cell_type": "code",
   "execution_count": null,
   "metadata": {},
   "outputs": [],
   "source": [
    "data_HomeCredit_columns_description[data_HomeCredit_columns_description[\"Table\"].str.contains(\"submission\")]"
   ]
  },
  {
   "cell_type": "code",
   "execution_count": null,
   "metadata": {},
   "outputs": [],
   "source": [
    "data_HomeCredit_columns_description[data_HomeCredit_columns_description[\"Row\"].str.contains(\"SK_ID_CURR\")]"
   ]
  },
  {
   "cell_type": "code",
   "execution_count": null,
   "metadata": {},
   "outputs": [],
   "source": [
    "data_sample_submission[\"TARGET\"].unique()"
   ]
  },
  {
   "cell_type": "markdown",
   "metadata": {},
   "source": [
    "# Création d'une base de données unique"
   ]
  },
  {
   "cell_type": "code",
   "execution_count": null,
   "metadata": {},
   "outputs": [],
   "source": [
    "@contextmanager\n",
    "def timer(title):\n",
    "    t0 = time.time()\n",
    "    yield\n",
    "    print(\"{} - done in {:.0f}s\".format(title, time.time() - t0))\n",
    "\n",
    "# One-hot encoding for categorical columns with get_dummies\n",
    "def one_hot_encoder(df, nan_as_category = False):\n",
    "    original_columns = list(df.columns)\n",
    "    categorical_columns = [col for col in df.columns if df[col].dtype == 'object']\n",
    "    df = pd.get_dummies(df, columns= categorical_columns, dummy_na= nan_as_category)\n",
    "    new_columns = [c for c in df.columns if c not in original_columns]\n",
    "    return df, new_columns\n",
    "\n",
    "# Preprocess application_train.csv and application_test.csv\n",
    "def application_train_test(num_rows = None, nan_as_category = False):\n",
    "    # Read data and merge\n",
    "    df = pd.read_csv('../Raw_data/application_train.csv', nrows= num_rows)\n",
    "    df = df.rename(columns = lambda x:re.sub('[^A-Za-z0-9_]+', '', x)) # ajout suite à erreur\n",
    "    test_df = pd.read_csv('../Raw_data/application_test.csv', nrows= num_rows)\n",
    "    test_df = test_df.rename(columns = lambda x:re.sub('[^A-Za-z0-9_]+', '', x)) # ajout suite à erreur\n",
    "    \n",
    "    print(\"Train samples: {}, test samples: {}\".format(len(df), len(test_df)))\n",
    "    df = df.append(test_df).reset_index()\n",
    "    # Optional: Remove 4 applications with XNA CODE_GENDER (train set)\n",
    "    df = df[df['CODE_GENDER'] != 'XNA']\n",
    "    \n",
    "    # Categorical features with Binary encode (0 or 1; two categories)\n",
    "    for bin_feature in ['CODE_GENDER', 'FLAG_OWN_CAR', 'FLAG_OWN_REALTY']:\n",
    "        df[bin_feature], uniques = pd.factorize(df[bin_feature])\n",
    "    # Categorical features with One-Hot encode\n",
    "    df, cat_cols = one_hot_encoder(df, nan_as_category)\n",
    "    \n",
    "    # NaN values for DAYS_EMPLOYED: 365.243 -> nan\n",
    "    df['DAYS_EMPLOYED'].replace(365243, np.nan, inplace= True)\n",
    "    # Some simple new features (percentages)\n",
    "    df['DAYS_EMPLOYED_PERC'] = df['DAYS_EMPLOYED'] / df['DAYS_BIRTH']\n",
    "    df['INCOME_CREDIT_PERC'] = df['AMT_INCOME_TOTAL'] / df['AMT_CREDIT']\n",
    "    df['INCOME_PER_PERSON'] = df['AMT_INCOME_TOTAL'] / df['CNT_FAM_MEMBERS']\n",
    "    df['ANNUITY_INCOME_PERC'] = df['AMT_ANNUITY'] / df['AMT_INCOME_TOTAL']\n",
    "    df['PAYMENT_RATE'] = df['AMT_ANNUITY'] / df['AMT_CREDIT']\n",
    "    del test_df\n",
    "    gc.collect()\n",
    "    return df\n",
    "\n",
    "# Preprocess bureau.csv and bureau_balance.csv\n",
    "def bureau_and_balance(num_rows = None, nan_as_category = False):\n",
    "    bureau = pd.read_csv('../Raw_data/bureau.csv', nrows = num_rows)\n",
    "    bureau = bureau.rename(columns = lambda x:re.sub('[^A-Za-z0-9_]+', '', x)) # ajout suite à erreur\n",
    "    bb = pd.read_csv('../Raw_data/bureau_balance.csv', nrows = num_rows)\n",
    "    bb = bb.rename(columns = lambda x:re.sub('[^A-Za-z0-9_]+', '', x)) # ajout suite à erreur\n",
    "    bb, bb_cat = one_hot_encoder(bb, nan_as_category)\n",
    "    bureau, bureau_cat = one_hot_encoder(bureau, nan_as_category)\n",
    "    \n",
    "    # Bureau balance: Perform aggregations and merge with bureau.csv\n",
    "    bb_aggregations = {'MONTHS_BALANCE': ['min', 'max', 'size']}\n",
    "    for col in bb_cat:\n",
    "        bb_aggregations[col] = ['mean']\n",
    "    bb_agg = bb.groupby('SK_ID_BUREAU').agg(bb_aggregations)\n",
    "    bb_agg.columns = pd.Index([e[0] + \"_\" + e[1].upper() for e in bb_agg.columns.tolist()])\n",
    "    bureau = bureau.join(bb_agg, how='left', on='SK_ID_BUREAU')\n",
    "    bureau.drop(['SK_ID_BUREAU'], axis=1, inplace= True)\n",
    "    del bb, bb_agg\n",
    "    gc.collect()\n",
    "    \n",
    "    # Bureau and bureau_balance numeric features\n",
    "    num_aggregations = {\n",
    "        'DAYS_CREDIT': ['min', 'max', 'mean', 'var'],\n",
    "        'DAYS_CREDIT_ENDDATE': ['min', 'max', 'mean'],\n",
    "        'DAYS_CREDIT_UPDATE': ['mean'],\n",
    "        'CREDIT_DAY_OVERDUE': ['max', 'mean'],\n",
    "        'AMT_CREDIT_MAX_OVERDUE': ['mean'],\n",
    "        'AMT_CREDIT_SUM': ['max', 'mean', 'sum'],\n",
    "        'AMT_CREDIT_SUM_DEBT': ['max', 'mean', 'sum'],\n",
    "        'AMT_CREDIT_SUM_OVERDUE': ['mean'],\n",
    "        'AMT_CREDIT_SUM_LIMIT': ['mean', 'sum'],\n",
    "        'AMT_ANNUITY': ['max', 'mean'],\n",
    "        'CNT_CREDIT_PROLONG': ['sum'],\n",
    "        'MONTHS_BALANCE_MIN': ['min'],\n",
    "        'MONTHS_BALANCE_MAX': ['max'],\n",
    "        'MONTHS_BALANCE_SIZE': ['mean', 'sum']\n",
    "    }\n",
    "    # Bureau and bureau_balance categorical features\n",
    "    cat_aggregations = {}\n",
    "    for cat in bureau_cat: cat_aggregations[cat] = ['mean']\n",
    "    for cat in bb_cat: cat_aggregations[cat + \"_MEAN\"] = ['mean']\n",
    "    \n",
    "    bureau_agg = bureau.groupby('SK_ID_CURR').agg({**num_aggregations, **cat_aggregations})\n",
    "    bureau_agg.columns = pd.Index(['BURO_' + e[0] + \"_\" + e[1].upper() for e in bureau_agg.columns.tolist()])\n",
    "    # Bureau: Active credits - using only numerical aggregations\n",
    "    active = bureau[bureau['CREDIT_ACTIVE_Active'] == 1]\n",
    "    active_agg = active.groupby('SK_ID_CURR').agg(num_aggregations)\n",
    "    active_agg.columns = pd.Index(['ACTIVE_' + e[0] + \"_\" + e[1].upper() for e in active_agg.columns.tolist()])\n",
    "    bureau_agg = bureau_agg.join(active_agg, how='left', on='SK_ID_CURR')\n",
    "    del active, active_agg\n",
    "    gc.collect()\n",
    "    # Bureau: Closed credits - using only numerical aggregations\n",
    "    closed = bureau[bureau['CREDIT_ACTIVE_Closed'] == 1]\n",
    "    closed_agg = closed.groupby('SK_ID_CURR').agg(num_aggregations)\n",
    "    closed_agg.columns = pd.Index(['CLOSED_' + e[0] + \"_\" + e[1].upper() for e in closed_agg.columns.tolist()])\n",
    "    bureau_agg = bureau_agg.join(closed_agg, how='left', on='SK_ID_CURR')\n",
    "    del closed, closed_agg, bureau\n",
    "    gc.collect()\n",
    "    cat_cols = bb_cat + bureau_cat\n",
    "    return bureau_agg\n",
    "\n",
    "# Preprocess previous_applications.csv\n",
    "def previous_applications(num_rows = None, nan_as_category = False):\n",
    "    prev = pd.read_csv('../Raw_data/previous_application.csv', nrows = num_rows)\n",
    "    prev = prev.rename(columns = lambda x:re.sub('[^A-Za-z0-9_]+', '', x)) # ajout suite à erreur\n",
    "    prev, cat_cols = one_hot_encoder(prev, nan_as_category= False)\n",
    "    # Days 365.243 values -> nan\n",
    "    prev['DAYS_FIRST_DRAWING'].replace(365243, np.nan, inplace= True)\n",
    "    prev['DAYS_FIRST_DUE'].replace(365243, np.nan, inplace= True)\n",
    "    prev['DAYS_LAST_DUE_1ST_VERSION'].replace(365243, np.nan, inplace= True)\n",
    "    prev['DAYS_LAST_DUE'].replace(365243, np.nan, inplace= True)\n",
    "    prev['DAYS_TERMINATION'].replace(365243, np.nan, inplace= True)\n",
    "    # Add feature: value ask / value received percentage\n",
    "    prev['APP_CREDIT_PERC'] = prev['AMT_APPLICATION'] / prev['AMT_CREDIT']\n",
    "    # Previous applications numeric features\n",
    "    num_aggregations = {\n",
    "        'AMT_ANNUITY': ['min', 'max', 'mean'],\n",
    "        'AMT_APPLICATION': ['min', 'max', 'mean'],\n",
    "        'AMT_CREDIT': ['min', 'max', 'mean'],\n",
    "        'APP_CREDIT_PERC': ['min', 'max', 'mean', 'var'],\n",
    "        'AMT_DOWN_PAYMENT': ['min', 'max', 'mean'],\n",
    "        'AMT_GOODS_PRICE': ['min', 'max', 'mean'],\n",
    "        'HOUR_APPR_PROCESS_START': ['min', 'max', 'mean'],\n",
    "        'RATE_DOWN_PAYMENT': ['min', 'max', 'mean'],\n",
    "        'DAYS_DECISION': ['min', 'max', 'mean'],\n",
    "        'CNT_PAYMENT': ['mean', 'sum'],\n",
    "    }\n",
    "    # Previous applications categorical features\n",
    "    cat_aggregations = {}\n",
    "    for cat in cat_cols:\n",
    "        cat_aggregations[cat] = ['mean']\n",
    "    \n",
    "    prev_agg = prev.groupby('SK_ID_CURR').agg({**num_aggregations, **cat_aggregations})\n",
    "    prev_agg.columns = pd.Index(['PREV_' + e[0] + \"_\" + e[1].upper() for e in prev_agg.columns.tolist()])\n",
    "    # Previous Applications: Approved Applications - only numerical features\n",
    "    approved = prev[prev['NAME_CONTRACT_STATUS_Approved'] == 1]\n",
    "    approved_agg = approved.groupby('SK_ID_CURR').agg(num_aggregations)\n",
    "    approved_agg.columns = pd.Index(['APPROVED_' + e[0] + \"_\" + e[1].upper() for e in approved_agg.columns.tolist()])\n",
    "    prev_agg = prev_agg.join(approved_agg, how='left', on='SK_ID_CURR')\n",
    "    # Previous Applications: Refused Applications - only numerical features\n",
    "    refused = prev[prev['NAME_CONTRACT_STATUS_Refused'] == 1]\n",
    "    refused_agg = refused.groupby('SK_ID_CURR').agg(num_aggregations)\n",
    "    refused_agg.columns = pd.Index(['REFUSED_' + e[0] + \"_\" + e[1].upper() for e in refused_agg.columns.tolist()])\n",
    "    prev_agg = prev_agg.join(refused_agg, how='left', on='SK_ID_CURR')\n",
    "    del refused, refused_agg, approved, approved_agg, prev\n",
    "    gc.collect()\n",
    "    return prev_agg\n",
    "\n",
    "# Preprocess POS_CASH_balance.csv\n",
    "def pos_cash(num_rows = None, nan_as_category = False):\n",
    "    pos = pd.read_csv('../Raw_data/POS_CASH_balance.csv', nrows = num_rows)\n",
    "    pos = pos.rename(columns = lambda x:re.sub('[^A-Za-z0-9_]+', '', x)) # ajout suite à erreur\n",
    "    pos, cat_cols = one_hot_encoder(pos, nan_as_category= False)\n",
    "    # Features\n",
    "    aggregations = {\n",
    "        'MONTHS_BALANCE': ['max', 'mean', 'size'],\n",
    "        'SK_DPD': ['max', 'mean'],\n",
    "        'SK_DPD_DEF': ['max', 'mean']\n",
    "    }\n",
    "    for cat in cat_cols:\n",
    "        aggregations[cat] = ['mean']\n",
    "    \n",
    "    pos_agg = pos.groupby('SK_ID_CURR').agg(aggregations)\n",
    "    pos_agg.columns = pd.Index(['POS_' + e[0] + \"_\" + e[1].upper() for e in pos_agg.columns.tolist()])\n",
    "    # Count pos cash accounts\n",
    "    pos_agg['POS_COUNT'] = pos.groupby('SK_ID_CURR').size()\n",
    "    del pos\n",
    "    gc.collect()\n",
    "    return pos_agg\n",
    "    \n",
    "# Preprocess installments_payments.csv\n",
    "def installments_payments(num_rows = None, nan_as_category = False):\n",
    "    ins = pd.read_csv('../Raw_data/installments_payments.csv', nrows = num_rows)\n",
    "    ins = ins.rename(columns = lambda x:re.sub('[^A-Za-z0-9_]+', '', x)) # ajout suite à erreur\n",
    "    ins, cat_cols = one_hot_encoder(ins, nan_as_category= False)\n",
    "    # Percentage and difference paid in each installment (amount paid and installment value)\n",
    "    ins['PAYMENT_PERC'] = ins['AMT_PAYMENT'] / ins['AMT_INSTALMENT']\n",
    "    ins['PAYMENT_DIFF'] = ins['AMT_INSTALMENT'] - ins['AMT_PAYMENT']\n",
    "    # Days past due and days before due (no negative values)\n",
    "    ins['DPD'] = ins['DAYS_ENTRY_PAYMENT'] - ins['DAYS_INSTALMENT']\n",
    "    ins['DBD'] = ins['DAYS_INSTALMENT'] - ins['DAYS_ENTRY_PAYMENT']\n",
    "    ins['DPD'] = ins['DPD'].apply(lambda x: x if x > 0 else 0)\n",
    "    ins['DBD'] = ins['DBD'].apply(lambda x: x if x > 0 else 0)\n",
    "    aggregations = {\n",
    "        'NUM_INSTALMENT_VERSION': ['nunique'],\n",
    "        'DPD': ['max', 'mean', 'sum'],\n",
    "        'DBD': ['max', 'mean', 'sum'],\n",
    "        'PAYMENT_PERC': ['max', 'mean', 'sum', 'var'],\n",
    "        'PAYMENT_DIFF': ['max', 'mean', 'sum', 'var'],\n",
    "        'AMT_INSTALMENT': ['max', 'mean', 'sum'],\n",
    "        'AMT_PAYMENT': ['min', 'max', 'mean', 'sum'],\n",
    "        'DAYS_ENTRY_PAYMENT': ['max', 'mean', 'sum']\n",
    "    }\n",
    "    for cat in cat_cols:\n",
    "        aggregations[cat] = ['mean']\n",
    "    ins_agg = ins.groupby('SK_ID_CURR').agg(aggregations)\n",
    "    ins_agg.columns = pd.Index(['INSTAL_' + e[0] + \"_\" + e[1].upper() for e in ins_agg.columns.tolist()])\n",
    "    # Count installments accounts\n",
    "    ins_agg['INSTAL_COUNT'] = ins.groupby('SK_ID_CURR').size()\n",
    "    del ins\n",
    "    gc.collect()\n",
    "    return ins_agg\n",
    "\n",
    "# Preprocess credit_card_balance.csv\n",
    "def credit_card_balance(num_rows = None, nan_as_category = False):\n",
    "    cc = pd.read_csv('../Raw_data/credit_card_balance.csv', nrows = num_rows)\n",
    "    cc = cc.rename(columns = lambda x:re.sub('[^A-Za-z0-9_]+', '', x)) # ajout suite à erreur\n",
    "    cc, cat_cols = one_hot_encoder(cc, nan_as_category= False)\n",
    "    # General aggregations\n",
    "    cc.drop(['SK_ID_PREV'], axis= 1, inplace = True)\n",
    "    cc_agg = cc.groupby('SK_ID_CURR').agg(['min', 'max', 'mean', 'sum', 'var'])\n",
    "    cc_agg.columns = pd.Index(['CC_' + e[0] + \"_\" + e[1].upper() for e in cc_agg.columns.tolist()])\n",
    "    # Count credit card lines\n",
    "    cc_agg['CC_COUNT'] = cc.groupby('SK_ID_CURR').size()\n",
    "    del cc\n",
    "    gc.collect()\n",
    "    return cc_agg\n"
   ]
  },
  {
   "cell_type": "code",
   "execution_count": null,
   "metadata": {},
   "outputs": [],
   "source": [
    "# Définition du nombre de lignes à utiliser pour créer le dataframe global\n",
    "# None : pour avoir toutes les lignes\n",
    "\n",
    "#num_rows = 20000\n",
    "num_rows = None"
   ]
  },
  {
   "cell_type": "code",
   "execution_count": null,
   "metadata": {},
   "outputs": [],
   "source": [
    "# nan_as_category : variable, pour mettre la valeur Nan comme catégorie au non\n",
    "\n",
    "#nan_as_category = True\n",
    "nan_as_category = False"
   ]
  },
  {
   "cell_type": "markdown",
   "metadata": {},
   "source": [
    "## fonction application_train_test"
   ]
  },
  {
   "cell_type": "code",
   "execution_count": null,
   "metadata": {},
   "outputs": [],
   "source": [
    "# application_train_test ajoute les lignes des données data_application_train et data_application_test\n",
    "# ajout des colonnes one-hot-encoder du dataframe\n",
    "\n",
    "df = application_train_test(num_rows, nan_as_category)\n",
    "print(df.shape)"
   ]
  },
  {
   "cell_type": "code",
   "execution_count": null,
   "metadata": {},
   "outputs": [],
   "source": [
    "# Target comprend des 0, 1 et nan.\n",
    "# Les nan proviennent de data_application_test puisqu'il n'y a pas de colonne \"Target\"\n",
    "\n",
    "df[\"TARGET\"].unique()"
   ]
  },
  {
   "cell_type": "markdown",
   "metadata": {},
   "source": [
    "## fonction bureau_and_balance"
   ]
  },
  {
   "cell_type": "markdown",
   "metadata": {},
   "source": [
    "### fonction bureau_and_balance - détail"
   ]
  },
  {
   "cell_type": "code",
   "execution_count": null,
   "metadata": {},
   "outputs": [],
   "source": [
    "# Lecture des données bureau et bureau_balance\n",
    "# one-hot-encoder pour les colonnes catégorielles des deux dataframes\n",
    "\n",
    "bureau = pd.read_csv('../Raw_data/bureau.csv', nrows = num_rows)\n",
    "bureau = bureau.rename(columns = lambda x:re.sub('[^A-Za-z0-9_]+', '', x)) # ajout suite à erreur\n",
    "bb = pd.read_csv('../Raw_data/bureau_balance.csv', nrows = num_rows)\n",
    "bb = bb.rename(columns = lambda x:re.sub('[^A-Za-z0-9_]+', '', x)) # ajout suite à erreur\n",
    "bb, bb_cat = one_hot_encoder(bb, nan_as_category)\n",
    "bureau, bureau_cat = one_hot_encoder(bureau, nan_as_category)"
   ]
  },
  {
   "cell_type": "code",
   "execution_count": null,
   "metadata": {},
   "outputs": [],
   "source": [
    "# dans le fichier data_HomeCredit_columns_description décrivant les données,\n",
    "# il y a une erreur : SK_BUREAU_ID au lieu de SK_ID_BUREAU dans le dataframe\n",
    "# SK_ID_BUREAU : Recoded ID of previous Credit Bureau credit related to our loan (unique coding for each loan application)\n",
    "# use this to join to CREDIT_BUREAU table\n",
    "\n",
    "# bb est basée sur le dataframe data_bureau_balance, avec le one-hot-encoding de la colonne status (§1.5)\n",
    "\n",
    "# exemple, tri sur SK_ID_BUREAU = 5715448, vu dans §1.3\n",
    "\n",
    "bb[bb[\"SK_ID_BUREAU\"] == 5715448]"
   ]
  },
  {
   "cell_type": "code",
   "execution_count": null,
   "metadata": {},
   "outputs": [],
   "source": [
    "# SK_ID_CURR : ID of loan in our sample - one loan in our sample can have 0,1,2 or more related previous credits in credit bureau\n",
    "\n",
    "# bureau est basée sur le dataframe data_bureau, avec le one-hot-encoding des colonnes catégorielles (§1.4)\n",
    "\n",
    "# exemple, pour SK_ID_BUREAU = 5715448, SK_ID_CURR = 380361\n",
    "\n",
    "bureau[bureau[\"SK_ID_BUREAU\"] == 5715448]"
   ]
  },
  {
   "cell_type": "code",
   "execution_count": null,
   "metadata": {},
   "outputs": [],
   "source": [
    "bureau = bureau_and_balance(num_rows, nan_as_category)\n",
    "print(\"Bureau df shape:\", bureau.shape)"
   ]
  },
  {
   "cell_type": "code",
   "execution_count": null,
   "metadata": {},
   "outputs": [],
   "source": [
    "bureau.head()"
   ]
  },
  {
   "cell_type": "code",
   "execution_count": null,
   "metadata": {},
   "outputs": [],
   "source": [
    "# exemple : pour SK_ID_BUREAU = 5715448, SK_ID_CURR = 380361\n",
    "bureau.loc[380361,:]"
   ]
  },
  {
   "cell_type": "code",
   "execution_count": null,
   "metadata": {},
   "outputs": [],
   "source": [
    "# exemple : pour SK_ID_BUREAU = 5715448, SK_ID_CURR = 380361\n",
    "data_bureau[data_bureau[\"SK_ID_CURR\"] == 380361]"
   ]
  },
  {
   "cell_type": "code",
   "execution_count": null,
   "metadata": {},
   "outputs": [],
   "source": [
    "# exemple : pour SK_ID_BUREAU = 5715448, SK_ID_CURR = 380361\n",
    "data_bureau_balance[data_bureau_balance[\"SK_ID_BUREAU\"] == 5715448]"
   ]
  },
  {
   "cell_type": "code",
   "execution_count": null,
   "metadata": {},
   "outputs": [],
   "source": [
    "# exemple : pour SK_ID_BUREAU = 5715448, SK_ID_CURR = 380361\n",
    "data_application_train[data_application_train[\"SK_ID_CURR\"] == 380361]"
   ]
  },
  {
   "cell_type": "markdown",
   "metadata": {},
   "source": [
    "Les numéros SK_ID_CURR sont uniques dans les dataframe data_application_train et data_application_test."
   ]
  },
  {
   "cell_type": "code",
   "execution_count": null,
   "metadata": {},
   "outputs": [],
   "source": [
    "data_application_train.sort_values(\"SK_ID_CURR\", ascending=True).head()"
   ]
  },
  {
   "cell_type": "code",
   "execution_count": null,
   "metadata": {},
   "outputs": [],
   "source": [
    "data_application_test.sort_values(\"SK_ID_CURR\", ascending=True).head()"
   ]
  },
  {
   "cell_type": "code",
   "execution_count": null,
   "metadata": {},
   "outputs": [],
   "source": [
    "# exemple : SK_ID_CURR = 100001\n",
    "data_bureau[data_bureau[\"SK_ID_CURR\"] == 100001]"
   ]
  },
  {
   "cell_type": "code",
   "execution_count": null,
   "metadata": {},
   "outputs": [],
   "source": [
    "df = df.join(bureau, how='left', on='SK_ID_CURR')\n",
    "del bureau"
   ]
  },
  {
   "cell_type": "code",
   "execution_count": null,
   "metadata": {},
   "outputs": [],
   "source": [
    "# On merge les dataframes df et bureau, on retrouve toutes les données de data_application_train et data_application_test\n",
    "df.sort_values(\"SK_ID_CURR\", ascending=True).head()"
   ]
  },
  {
   "cell_type": "markdown",
   "metadata": {},
   "source": [
    "## fonction previous_applications"
   ]
  },
  {
   "cell_type": "code",
   "execution_count": null,
   "metadata": {},
   "outputs": [],
   "source": [
    "prev = previous_applications(num_rows, nan_as_category)\n",
    "print(\"Previous applications df shape:\", prev.shape)\n",
    "df = df.join(prev, how='left', on='SK_ID_CURR')\n",
    "del prev"
   ]
  },
  {
   "cell_type": "markdown",
   "metadata": {},
   "source": [
    "## fonction pos_cash"
   ]
  },
  {
   "cell_type": "code",
   "execution_count": null,
   "metadata": {},
   "outputs": [],
   "source": [
    "pos = pos_cash(num_rows, nan_as_category)\n",
    "print(\"Pos-cash balance df shape:\", pos.shape)\n",
    "df = df.join(pos, how='left', on='SK_ID_CURR')\n",
    "del pos"
   ]
  },
  {
   "cell_type": "markdown",
   "metadata": {},
   "source": [
    "## fonction installments_payments"
   ]
  },
  {
   "cell_type": "code",
   "execution_count": null,
   "metadata": {},
   "outputs": [],
   "source": [
    "ins = installments_payments(num_rows, nan_as_category)\n",
    "print(\"Installments payments df shape:\", ins.shape)\n",
    "df = df.join(ins, how='left', on='SK_ID_CURR')\n",
    "del ins"
   ]
  },
  {
   "cell_type": "markdown",
   "metadata": {},
   "source": [
    "## fonction credit_card_balance"
   ]
  },
  {
   "cell_type": "code",
   "execution_count": null,
   "metadata": {},
   "outputs": [],
   "source": [
    "cc = credit_card_balance(num_rows, nan_as_category)\n",
    "print(\"Credit card balance df shape:\", cc.shape)\n",
    "df = df.join(cc, how='left', on='SK_ID_CURR')\n",
    "del cc"
   ]
  },
  {
   "cell_type": "markdown",
   "metadata": {},
   "source": [
    "## Base globale"
   ]
  },
  {
   "cell_type": "markdown",
   "metadata": {},
   "source": [
    "Le dataframe comprend une colonne index inutile, que je supprime."
   ]
  },
  {
   "cell_type": "code",
   "execution_count": null,
   "metadata": {},
   "outputs": [],
   "source": [
    "df.head(2)"
   ]
  },
  {
   "cell_type": "code",
   "execution_count": null,
   "metadata": {},
   "outputs": [],
   "source": [
    "df = df.drop('index', 1)"
   ]
  },
  {
   "cell_type": "markdown",
   "metadata": {},
   "source": [
    "Finalement, la base globale obtenue comprend :\n",
    "    - 356251 lignes\n",
    "    - 772 colonnes\n",
    "    \n",
    "La liste list_col_bin_encod comprend les noms des colonnes catégorielles qui ont été encodées binairement:\n",
    " - CODE_GENDER : M = 0 / F = 1\n",
    " - FLAG_OWN_CAR : N = 0 / Y = 1\n",
    " - FLAG_OWN_REALTY : N = 1 / Y = 0\n",
    " \n",
    "La liste list_col_binary comprend les noms des colonnes qui n'ont que 2 valeurs (0 ou 1).\n",
    "Ces colonnes n'ont pas été encodées, les valeurs étaient ainsi définiées à l'origine."
   ]
  },
  {
   "cell_type": "code",
   "execution_count": null,
   "metadata": {},
   "outputs": [],
   "source": [
    "df.shape"
   ]
  },
  {
   "cell_type": "code",
   "execution_count": null,
   "metadata": {},
   "outputs": [],
   "source": [
    "# Les données catégorielles de ces trois colonnes ont été encodées de façon binaire\n",
    "list_col_bin_encod = ['CODE_GENDER', 'FLAG_OWN_CAR', 'FLAG_OWN_REALTY']"
   ]
  },
  {
   "cell_type": "code",
   "execution_count": null,
   "metadata": {},
   "outputs": [],
   "source": [
    "df.loc[:,['SK_ID_CURR', 'CODE_GENDER', 'FLAG_OWN_CAR', 'FLAG_OWN_REALTY']].head(5)"
   ]
  },
  {
   "cell_type": "code",
   "execution_count": null,
   "metadata": {},
   "outputs": [],
   "source": [
    "data_application_train[data_application_train['SK_ID_CURR'] == 100002]"
   ]
  },
  {
   "cell_type": "markdown",
   "metadata": {},
   "source": [
    "Certaines colonnes du dataframe ont des valeurs binaires, avec :\n",
    "    - 0 pour non\n",
    "    - 1 pour oui\n",
    "    \n",
    "Exemple : FLAG_MOBIL : est-ce que le client a un téléphone mobile ?"
   ]
  },
  {
   "cell_type": "code",
   "execution_count": null,
   "metadata": {},
   "outputs": [],
   "source": [
    "df_col = df.columns.to_list()"
   ]
  },
  {
   "cell_type": "code",
   "execution_count": null,
   "metadata": {},
   "outputs": [],
   "source": [
    "df_target = df[df['TARGET'].isnull() == False]"
   ]
  },
  {
   "cell_type": "code",
   "execution_count": null,
   "metadata": {},
   "outputs": [],
   "source": [
    "list_col_binary = []\n",
    "\n",
    "for name in df_col :\n",
    "    number = df_target[name].unique()\n",
    "    if len(number) < 3 :\n",
    "        list_col_binary.append(name)"
   ]
  },
  {
   "cell_type": "code",
   "execution_count": null,
   "metadata": {},
   "outputs": [],
   "source": [
    "list_col_binary = [col for col in list_col_binary if (col not in list_col_bin_encod and col != 'TARGET')]"
   ]
  },
  {
   "cell_type": "code",
   "execution_count": null,
   "metadata": {
    "scrolled": true
   },
   "outputs": [],
   "source": [
    "list_col_binary"
   ]
  },
  {
   "cell_type": "code",
   "execution_count": null,
   "metadata": {},
   "outputs": [],
   "source": [
    "df[list_col_binary].isna().mean()"
   ]
  },
  {
   "cell_type": "markdown",
   "metadata": {},
   "source": [
    "Le dataframe comprend plusieurs types de données.\n",
    "Je vais harmoniser les colonnes contenant des entiers en passant tout en int8."
   ]
  },
  {
   "cell_type": "code",
   "execution_count": null,
   "metadata": {},
   "outputs": [],
   "source": [
    "df.dtypes.unique()"
   ]
  },
  {
   "cell_type": "code",
   "execution_count": null,
   "metadata": {},
   "outputs": [],
   "source": [
    "col_int64 = df.select_dtypes(include=['int64']).columns\n",
    "col_int64"
   ]
  },
  {
   "cell_type": "code",
   "execution_count": null,
   "metadata": {},
   "outputs": [],
   "source": [
    "df[col_int64] = df[col_int64].astype('uint8')"
   ]
  },
  {
   "cell_type": "markdown",
   "metadata": {},
   "source": [
    "Le dataframe contient 58 valeurs infinies.\n",
    "Les lignes contenant ces caleurs vont être supprimées."
   ]
  },
  {
   "cell_type": "code",
   "execution_count": null,
   "metadata": {},
   "outputs": [],
   "source": [
    "count = np.isinf(df[df['TARGET'].isnull() == False]).values.sum()\n",
    "print(\"It contains \" + str(count) + \" infinite values\")"
   ]
  },
  {
   "cell_type": "code",
   "execution_count": null,
   "metadata": {},
   "outputs": [],
   "source": [
    "print(\"printing column name where infinity is present\")\n",
    "col_name = df.columns.to_series()[np.isinf(df).any()]\n",
    "print(col_name)\n",
    "  \n",
    "# printing row index with infinity\n",
    "print()\n",
    "print(\"printing row index with infinity \")\n",
    "  \n",
    "row_inf = df.index[np.isinf(df).any(1)]\n",
    "print(row_inf)"
   ]
  },
  {
   "cell_type": "code",
   "execution_count": null,
   "metadata": {},
   "outputs": [],
   "source": [
    "df = df.drop(row_inf, 0)"
   ]
  },
  {
   "cell_type": "markdown",
   "metadata": {},
   "source": [
    "# Nettoyage de la base de données"
   ]
  },
  {
   "cell_type": "raw",
   "metadata": {},
   "source": [
    "with open ('data_nettoyee_pickle.pkl', 'rb') as temp:\n",
    "    df_without_nan = pickle.load(temp)"
   ]
  },
  {
   "cell_type": "raw",
   "metadata": {},
   "source": [
    "df_without_nan = pd.DataFrame(df_without_nan)"
   ]
  },
  {
   "cell_type": "raw",
   "metadata": {},
   "source": [
    "df_without_nan.shape"
   ]
  },
  {
   "cell_type": "markdown",
   "metadata": {},
   "source": [
    "with open ('liste_feature_engineering', 'rb') as temp:\n",
    "    liste_feature_engineering = pickle.load(temp)\n",
    "\n",
    "print(liste_feature_engineering)"
   ]
  },
  {
   "cell_type": "raw",
   "metadata": {},
   "source": [
    "cols_light_without_target = liste_feature_engineering[:40]\n",
    "cols_light_without_target = cols_light_without_target.to_list()"
   ]
  },
  {
   "cell_type": "raw",
   "metadata": {},
   "source": [
    "cols_light = cols_light_without_target.copy()\n",
    "cols_light.append('TARGET')"
   ]
  },
  {
   "cell_type": "code",
   "execution_count": null,
   "metadata": {},
   "outputs": [],
   "source": []
  },
  {
   "cell_type": "markdown",
   "metadata": {},
   "source": [
    "## Valeurs manquantes"
   ]
  },
  {
   "cell_type": "markdown",
   "metadata": {},
   "source": [
    "Le dataframe global comprend beaucoup de Nan.\n",
    "\n",
    "Sur 772 colonnes, 591 comprennent des valeurs manquantes (entre 5% et 85%)."
   ]
  },
  {
   "cell_type": "code",
   "execution_count": null,
   "metadata": {},
   "outputs": [],
   "source": [
    "# Function to calculate missing values by column# Funct \n",
    "def missing_values_table(df):\n",
    "        # Total missing values\n",
    "        mis_val = df.isnull().sum()\n",
    "        \n",
    "        # Percentage of missing values\n",
    "        mis_val_percent = 100 * df.isnull().sum() / len(df)\n",
    "        \n",
    "        # Make a table with the results\n",
    "        mis_val_table = pd.concat([mis_val, mis_val_percent], axis=1)\n",
    "        \n",
    "        # Rename the columns\n",
    "        mis_val_table_ren_columns = mis_val_table.rename(\n",
    "        columns = {0 : 'Missing Values', 1 : '% of Total Values'})\n",
    "        \n",
    "        # Sort the table by percentage of missing descending\n",
    "        mis_val_table_ren_columns = mis_val_table_ren_columns[\n",
    "            mis_val_table_ren_columns.iloc[:,1] != 0].sort_values(\n",
    "        '% of Total Values', ascending=False).round(1)\n",
    "        \n",
    "        # Print some summary information\n",
    "        print (\"Your selected dataframe has \" + str(df.shape[1]) + \" columns.\\n\"      \n",
    "            \"There are \" + str(mis_val_table_ren_columns.shape[0]) +\n",
    "              \" columns that have missing values.\")\n",
    "        \n",
    "        # Return the dataframe with missing information\n",
    "        return mis_val_table_ren_columns"
   ]
  },
  {
   "cell_type": "code",
   "execution_count": null,
   "metadata": {},
   "outputs": [],
   "source": [
    "# Missing values statistics\n",
    "missing_values = missing_values_table(df)\n",
    "missing_values.head(40)"
   ]
  },
  {
   "cell_type": "markdown",
   "metadata": {},
   "source": [
    "Je ne conserve pas les colonnes qui ont plus de 75% de valeurs manquantes."
   ]
  },
  {
   "cell_type": "code",
   "execution_count": null,
   "metadata": {},
   "outputs": [],
   "source": [
    "list_missing_values = missing_values[missing_values[\"% of Total Values\"] > 75].index.to_list()"
   ]
  },
  {
   "cell_type": "code",
   "execution_count": null,
   "metadata": {},
   "outputs": [],
   "source": []
  },
  {
   "cell_type": "code",
   "execution_count": null,
   "metadata": {},
   "outputs": [],
   "source": [
    "# Nouvelles colonnes du dataframe\n",
    "df_col = [col for col in df_col if (col not in list_missing_values)]"
   ]
  },
  {
   "cell_type": "code",
   "execution_count": null,
   "metadata": {},
   "outputs": [],
   "source": [
    "df = df[df_col]"
   ]
  },
  {
   "cell_type": "code",
   "execution_count": null,
   "metadata": {},
   "outputs": [],
   "source": [
    "df.shape"
   ]
  },
  {
   "cell_type": "code",
   "execution_count": null,
   "metadata": {},
   "outputs": [],
   "source": []
  },
  {
   "cell_type": "markdown",
   "metadata": {},
   "source": [
    "Les colonnes list_col_bin_encod ne comportent aucune données manquantes."
   ]
  },
  {
   "cell_type": "code",
   "execution_count": null,
   "metadata": {},
   "outputs": [],
   "source": [
    "df.loc[:,list_col_bin_encod].isna().mean()"
   ]
  },
  {
   "cell_type": "markdown",
   "metadata": {},
   "source": [
    "Pour remplacer les valeurs manquantes, il faut considérer les différents types de colonnes :\n",
    "- numériques\n",
    "- catégorielles (encodées par 0 ou 1) : liste list_col_binary\n",
    "\n",
    "Pour les données catégorielles (encodées par 0 ou 1), les valeurs manquantes seront remplacées par 0.\n",
    "Le 0 correspond à non.\n",
    "\n",
    "Pour les données numériques, les données manquantes seront remplacées par la médiane, en fonction du Target (0 ou 1)."
   ]
  },
  {
   "cell_type": "code",
   "execution_count": null,
   "metadata": {},
   "outputs": [],
   "source": [
    "for col in list_col_binary :\n",
    "    df[col].fillna(0, inplace=True)"
   ]
  },
  {
   "cell_type": "code",
   "execution_count": null,
   "metadata": {},
   "outputs": [],
   "source": [
    "num_cols = [col for col in df_col if (col not in list_col_bin_encod and col not in list_col_binary\n",
    "                                      and col != 'TARGET' and col != 'index')]"
   ]
  },
  {
   "cell_type": "code",
   "execution_count": null,
   "metadata": {},
   "outputs": [],
   "source": [
    "num_cols"
   ]
  },
  {
   "cell_type": "code",
   "execution_count": null,
   "metadata": {},
   "outputs": [],
   "source": [
    "for col in num_cols :\n",
    "    median_0 = df[df['TARGET'] == 0].loc[:,col].median()\n",
    "    median_1 = df[df['TARGET'] == 1].loc[:,col].median()\n",
    "        \n",
    "    df.loc[df['TARGET'] == 0, col] = df.loc[df['TARGET'] == 0, col].fillna(median_0)\n",
    "    df.loc[df['TARGET'] == 1, col] = df.loc[df['TARGET'] == 1, col].fillna(median_1)\n"
   ]
  },
  {
   "cell_type": "markdown",
   "metadata": {},
   "source": [
    "## Enregistrement intermédiaire"
   ]
  },
  {
   "cell_type": "raw",
   "metadata": {},
   "source": [
    "df.to_csv(\"Dataframe_réduit_without_NaN_without_inf.csv\")"
   ]
  },
  {
   "cell_type": "code",
   "execution_count": 7,
   "metadata": {},
   "outputs": [],
   "source": [
    "df = pd.read_csv(\"Dataframe_réduit_without_NaN_without_inf.csv\")"
   ]
  },
  {
   "cell_type": "code",
   "execution_count": 8,
   "metadata": {},
   "outputs": [],
   "source": [
    "df = df.drop('Unnamed: 0', 1)"
   ]
  },
  {
   "cell_type": "raw",
   "metadata": {},
   "source": [
    "with open('num_cols.pkl', 'wb') as f:\n",
    "    pickle.dump(num_cols, f)"
   ]
  },
  {
   "cell_type": "code",
   "execution_count": 9,
   "metadata": {},
   "outputs": [],
   "source": [
    "with open('num_cols.pkl', 'rb') as f:\n",
    "    num_cols = pickle.load(f)"
   ]
  },
  {
   "cell_type": "markdown",
   "metadata": {},
   "source": [
    "## Séparation dataframe train / set"
   ]
  },
  {
   "cell_type": "markdown",
   "metadata": {},
   "source": [
    "Le dataframe global comprend les données pour l'entrainement et le test, pour une compétition Kaggle.\n",
    "\n",
    "Le dataframe test ne comprend pas de target.\n",
    "\n",
    "Je vais donc séparer ces deux dataframes."
   ]
  },
  {
   "cell_type": "code",
   "execution_count": 10,
   "metadata": {},
   "outputs": [],
   "source": [
    "train_df = df[df['TARGET'].isnull() == False]"
   ]
  },
  {
   "cell_type": "code",
   "execution_count": 11,
   "metadata": {},
   "outputs": [
    {
     "data": {
      "text/plain": [
       "(307488, 736)"
      ]
     },
     "execution_count": 11,
     "metadata": {},
     "output_type": "execute_result"
    }
   ],
   "source": [
    "train_df.shape"
   ]
  },
  {
   "cell_type": "code",
   "execution_count": 12,
   "metadata": {},
   "outputs": [
    {
     "data": {
      "text/plain": [
       "array([1., 0.])"
      ]
     },
     "execution_count": 12,
     "metadata": {},
     "output_type": "execute_result"
    }
   ],
   "source": [
    "train_df['TARGET'].unique()"
   ]
  },
  {
   "cell_type": "raw",
   "metadata": {},
   "source": [
    "train_df.columns = [\"\".join (c if c.isalnum() else \"_\" for c in str(x)) for x in train_df.columns] ## ajout car erreur"
   ]
  },
  {
   "cell_type": "code",
   "execution_count": 13,
   "metadata": {},
   "outputs": [],
   "source": [
    "test_df = df[df['TARGET'].isnull() == True]"
   ]
  },
  {
   "cell_type": "code",
   "execution_count": 14,
   "metadata": {},
   "outputs": [
    {
     "data": {
      "text/plain": [
       "(48743, 736)"
      ]
     },
     "execution_count": 14,
     "metadata": {},
     "output_type": "execute_result"
    }
   ],
   "source": [
    "test_df.shape"
   ]
  },
  {
   "cell_type": "code",
   "execution_count": 15,
   "metadata": {},
   "outputs": [
    {
     "data": {
      "text/plain": [
       "array([nan])"
      ]
     },
     "execution_count": 15,
     "metadata": {},
     "output_type": "execute_result"
    }
   ],
   "source": [
    "test_df['TARGET'].unique()"
   ]
  },
  {
   "cell_type": "code",
   "execution_count": 13,
   "metadata": {},
   "outputs": [],
   "source": [
    "del df"
   ]
  },
  {
   "cell_type": "markdown",
   "metadata": {},
   "source": [
    "# Modèles"
   ]
  },
  {
   "cell_type": "markdown",
   "metadata": {},
   "source": [
    "Pour étudier différents modèles, je vais prendre un échantillon du dataframe pour faire une évaluation plus rapide."
   ]
  },
  {
   "cell_type": "code",
   "execution_count": 33,
   "metadata": {},
   "outputs": [],
   "source": [
    "data_reduite = train_df.sample(frac=0.1).reset_index(drop=True)"
   ]
  },
  {
   "cell_type": "code",
   "execution_count": 34,
   "metadata": {},
   "outputs": [],
   "source": [
    "data_reduite.to_csv(\"Data_reduite_01.csv\")"
   ]
  },
  {
   "cell_type": "code",
   "execution_count": 35,
   "metadata": {},
   "outputs": [
    {
     "data": {
      "text/plain": [
       "(30749, 736)"
      ]
     },
     "execution_count": 35,
     "metadata": {},
     "output_type": "execute_result"
    }
   ],
   "source": [
    "data_reduite.shape"
   ]
  },
  {
   "cell_type": "code",
   "execution_count": 36,
   "metadata": {},
   "outputs": [],
   "source": [
    "y = data_reduite['TARGET']\n",
    "y = y.reset_index(drop=True)\n",
    "X = data_reduite.copy()\n",
    "X = X.drop([\"TARGET\"], axis=1)\n",
    "X = X.reset_index(drop=True)"
   ]
  },
  {
   "cell_type": "code",
   "execution_count": 37,
   "metadata": {},
   "outputs": [
    {
     "data": {
      "text/plain": [
       "(30749, 372)"
      ]
     },
     "execution_count": 37,
     "metadata": {},
     "output_type": "execute_result"
    }
   ],
   "source": [
    "selector = VarianceThreshold(threshold=0.05)\n",
    "X_light=selector.fit_transform(X)\n",
    "X_light.shape"
   ]
  },
  {
   "cell_type": "code",
   "execution_count": 29,
   "metadata": {},
   "outputs": [],
   "source": [
    "threshold_n=0.98\n",
    "sel = VarianceThreshold(threshold=(threshold_n* (1 - threshold_n) ))\n",
    "sel_var=sel.fit_transform(X)"
   ]
  },
  {
   "cell_type": "code",
   "execution_count": 30,
   "metadata": {},
   "outputs": [
    {
     "data": {
      "text/plain": [
       "(30749, 427)"
      ]
     },
     "execution_count": 30,
     "metadata": {},
     "output_type": "execute_result"
    }
   ],
   "source": [
    "sel_var.shape"
   ]
  },
  {
   "cell_type": "markdown",
   "metadata": {},
   "source": [
    "Je partage le dataframe data_reduite en deux parties :\n",
    "    - une partie train : pour entrainer les modèles\n",
    "    - une partie test "
   ]
  },
  {
   "cell_type": "code",
   "execution_count": 38,
   "metadata": {},
   "outputs": [],
   "source": [
    "X_train, X_test, y_train, y_test = train_test_split(X,y,stratify=y)"
   ]
  },
  {
   "cell_type": "code",
   "execution_count": 39,
   "metadata": {},
   "outputs": [
    {
     "data": {
      "text/plain": [
       "0.0    21173\n",
       "1.0     1888\n",
       "Name: TARGET, dtype: int64"
      ]
     },
     "execution_count": 39,
     "metadata": {},
     "output_type": "execute_result"
    }
   ],
   "source": [
    "y_train.value_counts()"
   ]
  },
  {
   "cell_type": "code",
   "execution_count": 40,
   "metadata": {},
   "outputs": [
    {
     "data": {
      "text/plain": [
       "0.0    7059\n",
       "1.0     629\n",
       "Name: TARGET, dtype: int64"
      ]
     },
     "execution_count": 40,
     "metadata": {},
     "output_type": "execute_result"
    }
   ],
   "source": [
    "y_test.value_counts()"
   ]
  },
  {
   "cell_type": "markdown",
   "metadata": {},
   "source": [
    "Pour plus de facilité par la suite, je renomme X_train et y_train en X et y."
   ]
  },
  {
   "cell_type": "code",
   "execution_count": 41,
   "metadata": {},
   "outputs": [],
   "source": [
    "X = X_train\n",
    "y = y_train"
   ]
  },
  {
   "cell_type": "markdown",
   "metadata": {},
   "source": [
    "## Premiers modèles"
   ]
  },
  {
   "cell_type": "code",
   "execution_count": 42,
   "metadata": {},
   "outputs": [],
   "source": [
    "results = pd.DataFrame(columns=['MODEL','TIME', 'ROC_AUC_MEAN', 'ROC_AUC_MEAN_STD',\n",
    "                                'F2_MEAN', 'F2_STD'])"
   ]
  },
  {
   "cell_type": "code",
   "execution_count": 43,
   "metadata": {},
   "outputs": [
    {
     "name": "stdout",
     "output_type": "stream",
     "text": [
      "AUC : DC 0.500 (0.000)\n",
      "F2 : DC 0.000 (0.000)\n",
      "AUC : KNC 0.687 (0.018)\n",
      "F2 : KNC 0.095 (0.018)\n",
      "AUC : SGD 0.943 (0.016)\n",
      "F2 : SGD 0.766 (0.034)\n",
      "AUC : BNB 0.972 (0.004)\n",
      "F2 : BNB 0.755 (0.015)\n",
      "AUC : LGBM 1.000 (0.000)\n",
      "F2 : LGBM 0.991 (0.006)\n",
      "AUC : LR 0.970 (0.009)\n",
      "F2 : LR 0.797 (0.027)\n",
      "AUC : LDA 0.987 (0.004)\n",
      "F2 : LDA 0.746 (0.030)\n",
      "AUC : NB 0.520 (0.012)\n",
      "F2 : NB 0.312 (0.007)\n",
      "AUC : SVM 0.927 (0.013)\n",
      "F2 : SVM 0.619 (0.037)\n",
      "AUC : DTC 0.984 (0.007)\n",
      "F2 : DTC 0.970 (0.012)\n",
      "AUC : RFC 1.000 (0.000)\n",
      "F2 : RFC 0.964 (0.011)\n"
     ]
    }
   ],
   "source": [
    "# calculate f2-measure\n",
    "def f2_measure(y_true, y_pred):\n",
    "    return fbeta_score(y_true, y_pred, beta=2)\n",
    "\n",
    "# evaluate a model\n",
    "def evaluate_model(X, y, model):\n",
    "    # define evaluation procedure\n",
    "    cv = RepeatedStratifiedKFold(n_splits=10, n_repeats=3, random_state=1)\n",
    "    \n",
    "    # define the model evaluation metric\n",
    "    metric = make_scorer(f2_measure)\n",
    "\n",
    "    # evaluate model\n",
    "    scores_AUC = cross_val_score(model, X, y, scoring='roc_auc', cv=cv, n_jobs=-1)\n",
    "    scores_F2 = cross_val_score(model, X, y, scoring=metric, cv=cv, n_jobs=-1)\n",
    "\n",
    "    return scores_AUC, scores_F2\n",
    "\n",
    "\n",
    "# define models to test\n",
    "def get_models():\n",
    "    models, names = list(), list()\n",
    "    # DC\n",
    "    models.append(DummyClassifier())\n",
    "    names.append('DC')\n",
    "    # KNC\n",
    "    models.append(KNeighborsClassifier())\n",
    "    names.append('KNC')\n",
    "    # SGD\n",
    "    models.append(SGDClassifier())\n",
    "    names.append('SGD')\n",
    "    # BNB\n",
    "    models.append(BernoulliNB())\n",
    "    names.append('BNB')    \n",
    "    # LGBM\n",
    "    models.append(LGBMClassifier())\n",
    "    names.append('LGBM')\n",
    "    # LR\n",
    "    models.append(LogisticRegression(max_iter=500))\n",
    "    names.append('LR')\n",
    "    # LDA\n",
    "    models.append(LinearDiscriminantAnalysis())\n",
    "    names.append('LDA')\n",
    "    # NB\n",
    "    models.append(GaussianNB())\n",
    "    names.append('NB')\n",
    "    # SVM\n",
    "    models.append(SVC())\n",
    "    names.append('SVM')\n",
    "    # DTC\n",
    "    models.append(DecisionTreeClassifier())\n",
    "    names.append('DTC')\n",
    "    # RFC\n",
    "    models.append(RandomForestClassifier())\n",
    "    names.append('RFC')\n",
    "    return models, names\n",
    "\n",
    "\n",
    "# define models\n",
    "models, names = get_models()\n",
    "results_AUC = list()\n",
    "results_F2 = list()\n",
    "results_time = list()\n",
    "\n",
    "# evaluate each model\n",
    "for i in range(len(models)):\n",
    "    results_inter = [models[i]]\n",
    "    ct = ColumnTransformer([('n',StandardScaler(),num_cols)])\n",
    "    # wrap the model i a pipeline\n",
    "    pipeline = Pipeline(steps=[('tranform',ct),\n",
    "                               ('selector', VarianceThreshold(threshold=0.05)),\n",
    "                               ('models',models[i])])\n",
    "    \n",
    "    #pipeline = Pipeline(steps=[('tranform',ct),\n",
    "    #                          ('models',models[i])])\n",
    "    \n",
    "\n",
    "    # evaluate the model and store results\n",
    "    start = timer()\n",
    "    scores_AUC, scores_F2 = evaluate_model(X, y, pipeline)\n",
    "    end = timer()\n",
    "    time = end - start\n",
    "    \n",
    "    results_AUC.append(scores_AUC)\n",
    "    results_F2.append(scores_F2)\n",
    "    results_time.append(time)\n",
    "    results_inter.append(time)\n",
    "    results_inter.append(mean(scores_AUC))\n",
    "    results_inter.append(std(scores_AUC))\n",
    "    results_inter.append(mean(scores_F2))\n",
    "    results_inter.append(std(scores_F2))\n",
    "\n",
    "    \n",
    "    # summarize and store\n",
    "    print('AUC : %s %.3f (%.3f)' % (names[i], mean(scores_AUC), std(scores_AUC)))\n",
    "    print('F2 : %s %.3f (%.3f)' % (names[i], mean(scores_F2), std(scores_F2)))\n",
    "    results_inter_2 = pd.DataFrame([results_inter], columns = results.columns) \n",
    "    results = results.append(results_inter_2, ignore_index=True) \n"
   ]
  },
  {
   "cell_type": "code",
   "execution_count": 44,
   "metadata": {},
   "outputs": [
    {
     "data": {
      "image/png": "[encoded data removed]",
      "text/plain": [
       "<Figure size 576x360 with 1 Axes>"
      ]
     },
     "metadata": {
      "needs_background": "light"
     },
     "output_type": "display_data"
    }
   ],
   "source": [
    "fig = plt.figure(figsize = (8,5))\n",
    "\n",
    "ax = fig.add_subplot(111)\n",
    "ax.boxplot(results_AUC, labels=names, showmeans=True)\n",
    "ax.set_title('Results AUC', fontsize=14, fontweight='bold')\n",
    "\n",
    "plt.show()"
   ]
  },
  {
   "cell_type": "code",
   "execution_count": 45,
   "metadata": {},
   "outputs": [
    {
     "data": {
      "image/png": "[encoded data removed]",
      "text/plain": [
       "<Figure size 576x360 with 1 Axes>"
      ]
     },
     "metadata": {
      "needs_background": "light"
     },
     "output_type": "display_data"
    }
   ],
   "source": [
    "fig = plt.figure(figsize = (8,5))\n",
    "\n",
    "ax = fig.add_subplot(111)\n",
    "ax.boxplot(results_F2, labels=names, showmeans=True)\n",
    "ax.set_title('Results F2-score', fontsize=14, fontweight='bold')\n",
    "\n",
    "plt.show()"
   ]
  },
  {
   "cell_type": "code",
   "execution_count": 46,
   "metadata": {},
   "outputs": [
    {
     "data": {
      "text/html": [
       "<div>\n",
       "<style scoped>\n",
       "    .dataframe tbody tr th:only-of-type {\n",
       "        vertical-align: middle;\n",
       "    }\n",
       "\n",
       "    .dataframe tbody tr th {\n",
       "        vertical-align: top;\n",
       "    }\n",
       "\n",
       "    .dataframe thead th {\n",
       "        text-align: right;\n",
       "    }\n",
       "</style>\n",
       "<table border=\"1\" class=\"dataframe\">\n",
       "  <thead>\n",
       "    <tr style=\"text-align: right;\">\n",
       "      <th></th>\n",
       "      <th>MODEL</th>\n",
       "      <th>TIME</th>\n",
       "      <th>ROC_AUC_MEAN</th>\n",
       "      <th>ROC_AUC_MEAN_STD</th>\n",
       "      <th>F2_MEAN</th>\n",
       "      <th>F2_STD</th>\n",
       "    </tr>\n",
       "  </thead>\n",
       "  <tbody>\n",
       "    <tr>\n",
       "      <th>4</th>\n",
       "      <td>LGBMClassifier()</td>\n",
       "      <td>90.703042</td>\n",
       "      <td>0.999988</td>\n",
       "      <td>0.000017</td>\n",
       "      <td>0.991007</td>\n",
       "      <td>0.006493</td>\n",
       "    </tr>\n",
       "    <tr>\n",
       "      <th>10</th>\n",
       "      <td>RandomForestClassifier()</td>\n",
       "      <td>49.084226</td>\n",
       "      <td>0.999926</td>\n",
       "      <td>0.000066</td>\n",
       "      <td>0.964382</td>\n",
       "      <td>0.010630</td>\n",
       "    </tr>\n",
       "    <tr>\n",
       "      <th>6</th>\n",
       "      <td>LinearDiscriminantAnalysis()</td>\n",
       "      <td>92.545526</td>\n",
       "      <td>0.986643</td>\n",
       "      <td>0.004274</td>\n",
       "      <td>0.746319</td>\n",
       "      <td>0.029663</td>\n",
       "    </tr>\n",
       "    <tr>\n",
       "      <th>9</th>\n",
       "      <td>DecisionTreeClassifier()</td>\n",
       "      <td>24.576809</td>\n",
       "      <td>0.983900</td>\n",
       "      <td>0.006642</td>\n",
       "      <td>0.970367</td>\n",
       "      <td>0.012150</td>\n",
       "    </tr>\n",
       "    <tr>\n",
       "      <th>3</th>\n",
       "      <td>BernoulliNB()</td>\n",
       "      <td>17.161184</td>\n",
       "      <td>0.972439</td>\n",
       "      <td>0.003937</td>\n",
       "      <td>0.755261</td>\n",
       "      <td>0.015484</td>\n",
       "    </tr>\n",
       "    <tr>\n",
       "      <th>5</th>\n",
       "      <td>LogisticRegression(max_iter=500)</td>\n",
       "      <td>234.396982</td>\n",
       "      <td>0.970309</td>\n",
       "      <td>0.008576</td>\n",
       "      <td>0.797067</td>\n",
       "      <td>0.027362</td>\n",
       "    </tr>\n",
       "    <tr>\n",
       "      <th>2</th>\n",
       "      <td>SGDClassifier()</td>\n",
       "      <td>52.557284</td>\n",
       "      <td>0.943104</td>\n",
       "      <td>0.015728</td>\n",
       "      <td>0.766087</td>\n",
       "      <td>0.034147</td>\n",
       "    </tr>\n",
       "    <tr>\n",
       "      <th>8</th>\n",
       "      <td>SVC()</td>\n",
       "      <td>2269.542047</td>\n",
       "      <td>0.926837</td>\n",
       "      <td>0.013458</td>\n",
       "      <td>0.619055</td>\n",
       "      <td>0.036604</td>\n",
       "    </tr>\n",
       "    <tr>\n",
       "      <th>1</th>\n",
       "      <td>KNeighborsClassifier()</td>\n",
       "      <td>52.802955</td>\n",
       "      <td>0.686595</td>\n",
       "      <td>0.018488</td>\n",
       "      <td>0.094873</td>\n",
       "      <td>0.018034</td>\n",
       "    </tr>\n",
       "    <tr>\n",
       "      <th>7</th>\n",
       "      <td>GaussianNB()</td>\n",
       "      <td>19.886529</td>\n",
       "      <td>0.519814</td>\n",
       "      <td>0.012417</td>\n",
       "      <td>0.311885</td>\n",
       "      <td>0.006989</td>\n",
       "    </tr>\n",
       "    <tr>\n",
       "      <th>0</th>\n",
       "      <td>DummyClassifier()</td>\n",
       "      <td>21.755172</td>\n",
       "      <td>0.500000</td>\n",
       "      <td>0.000000</td>\n",
       "      <td>0.000000</td>\n",
       "      <td>0.000000</td>\n",
       "    </tr>\n",
       "  </tbody>\n",
       "</table>\n",
       "</div>"
      ],
      "text/plain": [
       "                               MODEL         TIME  ROC_AUC_MEAN  \\\n",
       "4                   LGBMClassifier()    90.703042      0.999988   \n",
       "10          RandomForestClassifier()    49.084226      0.999926   \n",
       "6       LinearDiscriminantAnalysis()    92.545526      0.986643   \n",
       "9           DecisionTreeClassifier()    24.576809      0.983900   \n",
       "3                      BernoulliNB()    17.161184      0.972439   \n",
       "5   LogisticRegression(max_iter=500)   234.396982      0.970309   \n",
       "2                    SGDClassifier()    52.557284      0.943104   \n",
       "8                              SVC()  2269.542047      0.926837   \n",
       "1             KNeighborsClassifier()    52.802955      0.686595   \n",
       "7                       GaussianNB()    19.886529      0.519814   \n",
       "0                  DummyClassifier()    21.755172      0.500000   \n",
       "\n",
       "    ROC_AUC_MEAN_STD   F2_MEAN    F2_STD  \n",
       "4           0.000017  0.991007  0.006493  \n",
       "10          0.000066  0.964382  0.010630  \n",
       "6           0.004274  0.746319  0.029663  \n",
       "9           0.006642  0.970367  0.012150  \n",
       "3           0.003937  0.755261  0.015484  \n",
       "5           0.008576  0.797067  0.027362  \n",
       "2           0.015728  0.766087  0.034147  \n",
       "8           0.013458  0.619055  0.036604  \n",
       "1           0.018488  0.094873  0.018034  \n",
       "7           0.012417  0.311885  0.006989  \n",
       "0           0.000000  0.000000  0.000000  "
      ]
     },
     "execution_count": 46,
     "metadata": {},
     "output_type": "execute_result"
    }
   ],
   "source": [
    "results.sort_values('ROC_AUC_MEAN', ascending=False)"
   ]
  },
  {
   "cell_type": "code",
   "execution_count": 47,
   "metadata": {},
   "outputs": [],
   "source": [
    "results.to_csv(\"Results_frac_010_thres_005.csv\")"
   ]
  },
  {
   "cell_type": "code",
   "execution_count": null,
   "metadata": {},
   "outputs": [],
   "source": [
    "stop"
   ]
  },
  {
   "cell_type": "markdown",
   "metadata": {},
   "source": [
    "## Modèles sélectionnés"
   ]
  },
  {
   "cell_type": "markdown",
   "metadata": {},
   "source": [
    "Parmi les dix modèles testés, je vais en garder trois qui ont de bonnes performances en durée de calcul et dans les métriques ROC AUC et F2 score :\n",
    "\n",
    "    - LGBM Classifier\n",
    "    - Random Forest Classifier\n",
    "    - Decision Tree Classifier\n",
    "    \n",
    "Je sélectionne également le modèle le plus performant en durée de calcul et performant en métrique ROC AUC :\n",
    "\n",
    "    - Bernoulli Naive Bayes"
   ]
  },
  {
   "cell_type": "code",
   "execution_count": 48,
   "metadata": {},
   "outputs": [],
   "source": [
    "improved_results = pd.DataFrame(columns=['MODEL','OPTIMIZATION_TIME', 'ROC_AUC_MEAN', 'ROC_AUC_MEAN_STD', 'BEST_PIPE_AUC', \n",
    "                                'VALIDATION_TIME', 'F2_MEAN', 'F2_STD', 'BEST_PIPE_F2'])"
   ]
  },
  {
   "cell_type": "code",
   "execution_count": 50,
   "metadata": {},
   "outputs": [
    {
     "name": "stdout",
     "output_type": "stream",
     "text": [
      "AUC : LGBM 1.000 (0.000)\n",
      "F2 : LGBM 0.994 (0.007)\n",
      "AUC : BNB 0.975 (0.007)\n",
      "F2 : BNB 0.774 (0.027)\n",
      "AUC : DTC 0.980 (0.012)\n",
      "F2 : DTC 0.957 (0.022)\n",
      "AUC : RFC 1.000 (0.000)\n",
      "F2 : RFC 0.969 (0.020)\n"
     ]
    }
   ],
   "source": [
    "# define models to test\n",
    "def get_models():\n",
    "    models, names = list(), list()\n",
    "   # LGBM\n",
    "    models.append(LGBMClassifier())\n",
    "    names.append('LGBM')\n",
    "    # BNB\n",
    "    models.append(BernoulliNB())\n",
    "    names.append('BNB')   \n",
    "    # DTC\n",
    "    models.append(DecisionTreeClassifier())\n",
    "    names.append('DTC')\n",
    "    # RFC\n",
    "    models.append(RandomForestClassifier())\n",
    "    names.append('RFC')\n",
    "    return models, names\n",
    "\n",
    "def evaluate_model(X, y, model, metric):\n",
    "    # define evaluation procedure\n",
    "    cv = RepeatedStratifiedKFold(n_splits=10, n_repeats=3, random_state=1)\n",
    "\n",
    "    # evaluate model\n",
    "    scores_model = cross_val_score(model, X, y, scoring=metric, cv=cv, n_jobs=-1)\n",
    "\n",
    "    return scores_model\n",
    "\n",
    "def create_pipe(models):\n",
    "    pipe = Pipeline([\n",
    "    ('scaler', StandardScaler()),\n",
    "    ('selector', VarianceThreshold(0.05)),\n",
    "    ('classifier',models)\n",
    "    ])\n",
    "    return pipe\n",
    "\n",
    "def models_parameters(models):\n",
    "    if str(models) == 'LGBMClassifier()' : \n",
    "        parameters = {'scaler': [StandardScaler(), MinMaxScaler()],\n",
    "            'classifier__n_estimators': [100, 200, 300],\n",
    "            'classifier__max_depth': [1, 2, 5, 10],\n",
    "            'classifier__reg_alpha': [0.1, 1, 10],\n",
    "            'classifier__reg_lambda': [0.1, 1, 10]\n",
    "                     }\n",
    "    \n",
    "    if str(models) == 'BernoulliNB()' :\n",
    "        parameters = {'scaler': [StandardScaler(), MinMaxScaler()],\n",
    "            'classifier__alpha': [ 0.1, 1, 10],\n",
    "            'classifier__binarize': [ 0.1, 1, 10]\n",
    "                }\n",
    "        \n",
    "    if str(models) == 'DecisionTreeClassifier()' :   \n",
    "        parameters = {'scaler': [StandardScaler(), MinMaxScaler()],\n",
    "            'classifier__criterion': [\"gini\", \"entropy\"],\n",
    "            'classifier__max_depth': [1, 5, 10],\n",
    "            'classifier__splitter': [\"best\", \"random\"]          \n",
    "                }\n",
    "        \n",
    "    if str(models) == 'RandomForestClassifier()' :    \n",
    "        parameters = {'scaler': [StandardScaler(), MinMaxScaler()],\n",
    "            'classifier__n_estimators': [100, 200, 300],\n",
    "            'classifier__criterion': [\"gini\", \"entropy\"],\n",
    "            'classifier__max_depth': [1, 5, 10],\n",
    "            'classifier__max_features': [\"auto\", \"sqrt\", \"log2\"]\n",
    "                     }\n",
    "      \n",
    "    return parameters\n",
    "\n",
    "# calculate f2-measure\n",
    "def f2_measure(y_true, y_pred):\n",
    "    return fbeta_score(y_true, y_pred, beta=2)\n",
    "\n",
    "# evaluate a model\n",
    "def evaluate_GridSearch_model(X, y, pipe, parameters):\n",
    "    # define evaluation procedure\n",
    "    cv = RepeatedStratifiedKFold(n_splits=10, n_repeats=3, random_state=1)\n",
    "    \n",
    "    # define the model evaluation metric\n",
    "    metric = make_scorer(f2_measure)\n",
    "\n",
    "    # evaluate model\n",
    "    grid_AUC = GridSearchCV(pipe, parameters, cv=cv, scoring='roc_auc').fit(X, y)\n",
    "    grid_F2 = GridSearchCV(pipe, parameters, cv=cv, scoring=metric).fit(X, y)\n",
    "\n",
    "    return grid_AUC, grid_F2\n",
    "\n",
    "                      \n",
    "                      \n",
    "# define models\n",
    "models, names = get_models()\n",
    "results_AUC = list()\n",
    "results_F2 = list()\n",
    "results_time = list()                      \n",
    "                     \n",
    "\n",
    "# evaluate each model\n",
    "for i in range(len(models)):\n",
    "    \n",
    "    results_inter = [models[i]]\n",
    "    pipe = create_pipe(models[i])\n",
    "    parameters = models_parameters(models[i])\n",
    "    start = timer() \n",
    "    grid_AUC, grid_F2 = evaluate_GridSearch_model(X, y, pipe, parameters)\n",
    "    end = timer()\n",
    "    time_1 = end - start                  \n",
    "                      \n",
    "    best_pipe_AUC = grid_AUC.best_estimator_\n",
    "    best_pipe_F2 = grid_F2.best_estimator_                  \n",
    "    \n",
    "    # evaluate the model and store results\n",
    "    start = timer()                  \n",
    "    scores_AUC = evaluate_model(X_test, y_test, best_pipe_AUC, 'roc_auc')\n",
    "    scores_F2 = evaluate_model(X_test, y_test, best_pipe_F2, make_scorer(f2_measure))\n",
    "    end = timer()\n",
    "    time_2 = end - start                  \n",
    "                      \n",
    "    results_AUC.append(scores_AUC)\n",
    "    results_F2.append(scores_F2)\n",
    "    results_time.append(time_1)\n",
    "    results_inter.append(time_1)\n",
    "    results_inter.append(mean(scores_AUC))\n",
    "    results_inter.append(std(scores_AUC))\n",
    "    results_inter.append(best_pipe_AUC)\n",
    "    results_inter.append(time_2)\n",
    "    results_inter.append(mean(scores_F2))\n",
    "    results_inter.append(std(scores_F2))\n",
    "    results_inter.append(best_pipe_F2)                  \n",
    "   \n",
    "    # summarize and store\n",
    "    print('AUC : %s %.3f (%.3f)' % (names[i], mean(scores_AUC), std(scores_AUC)))\n",
    "    print('F2 : %s %.3f (%.3f)' % (names[i], mean(scores_F2), std(scores_F2)))\n",
    "    results_inter_2 = pd.DataFrame([results_inter], columns = improved_results.columns) \n",
    "    improved_results = improved_results.append(results_inter_2, ignore_index=True)                   "
   ]
  },
  {
   "cell_type": "code",
   "execution_count": 51,
   "metadata": {},
   "outputs": [
    {
     "data": {
      "image/png": "[encoded data removed]",
      "text/plain": [
       "<Figure size 576x360 with 1 Axes>"
      ]
     },
     "metadata": {
      "needs_background": "light"
     },
     "output_type": "display_data"
    }
   ],
   "source": [
    "fig = plt.figure(figsize = (8,5))\n",
    "\n",
    "ax = fig.add_subplot(111)\n",
    "ax.boxplot(results_AUC, labels=names, showmeans=True)\n",
    "ax.set_title('Results AUC', fontsize=14, fontweight='bold')\n",
    "\n",
    "plt.show()"
   ]
  },
  {
   "cell_type": "code",
   "execution_count": 52,
   "metadata": {},
   "outputs": [
    {
     "data": {
      "image/png": "[encoded data removed]",
      "text/plain": [
       "<Figure size 576x360 with 1 Axes>"
      ]
     },
     "metadata": {
      "needs_background": "light"
     },
     "output_type": "display_data"
    }
   ],
   "source": [
    "fig = plt.figure(figsize = (8,5))\n",
    "\n",
    "ax = fig.add_subplot(111)\n",
    "ax.boxplot(results_F2, labels=names, showmeans=True)\n",
    "ax.set_title('Results F2-score', fontsize=14, fontweight='bold')\n",
    "\n",
    "plt.show()"
   ]
  },
  {
   "cell_type": "code",
   "execution_count": 53,
   "metadata": {},
   "outputs": [
    {
     "data": {
      "text/html": [
       "<div>\n",
       "<style scoped>\n",
       "    .dataframe tbody tr th:only-of-type {\n",
       "        vertical-align: middle;\n",
       "    }\n",
       "\n",
       "    .dataframe tbody tr th {\n",
       "        vertical-align: top;\n",
       "    }\n",
       "\n",
       "    .dataframe thead th {\n",
       "        text-align: right;\n",
       "    }\n",
       "</style>\n",
       "<table border=\"1\" class=\"dataframe\">\n",
       "  <thead>\n",
       "    <tr style=\"text-align: right;\">\n",
       "      <th></th>\n",
       "      <th>MODEL</th>\n",
       "      <th>OPTIMIZATION_TIME</th>\n",
       "      <th>ROC_AUC_MEAN</th>\n",
       "      <th>ROC_AUC_MEAN_STD</th>\n",
       "      <th>BEST_PIPE_AUC</th>\n",
       "      <th>VALIDATION_TIME</th>\n",
       "      <th>F2_MEAN</th>\n",
       "      <th>F2_STD</th>\n",
       "      <th>BEST_PIPE_F2</th>\n",
       "    </tr>\n",
       "  </thead>\n",
       "  <tbody>\n",
       "    <tr>\n",
       "      <th>0</th>\n",
       "      <td>LGBMClassifier()</td>\n",
       "      <td>18652.492189</td>\n",
       "      <td>1.000000</td>\n",
       "      <td>4.053961e-17</td>\n",
       "      <td>(StandardScaler(), VarianceThreshold(threshold...</td>\n",
       "      <td>22.907795</td>\n",
       "      <td>0.993607</td>\n",
       "      <td>0.007219</td>\n",
       "      <td>(StandardScaler(), VarianceThreshold(threshold...</td>\n",
       "    </tr>\n",
       "    <tr>\n",
       "      <th>3</th>\n",
       "      <td>RandomForestClassifier()</td>\n",
       "      <td>34609.124306</td>\n",
       "      <td>0.999962</td>\n",
       "      <td>4.759847e-05</td>\n",
       "      <td>(StandardScaler(), VarianceThreshold(threshold...</td>\n",
       "      <td>36.919832</td>\n",
       "      <td>0.969150</td>\n",
       "      <td>0.019922</td>\n",
       "      <td>(StandardScaler(), VarianceThreshold(threshold...</td>\n",
       "    </tr>\n",
       "    <tr>\n",
       "      <th>2</th>\n",
       "      <td>DecisionTreeClassifier()</td>\n",
       "      <td>1381.801274</td>\n",
       "      <td>0.980083</td>\n",
       "      <td>1.214245e-02</td>\n",
       "      <td>(StandardScaler(), VarianceThreshold(threshold...</td>\n",
       "      <td>11.539083</td>\n",
       "      <td>0.956882</td>\n",
       "      <td>0.021606</td>\n",
       "      <td>(StandardScaler(), VarianceThreshold(threshold...</td>\n",
       "    </tr>\n",
       "    <tr>\n",
       "      <th>1</th>\n",
       "      <td>BernoulliNB()</td>\n",
       "      <td>693.197641</td>\n",
       "      <td>0.974844</td>\n",
       "      <td>6.748094e-03</td>\n",
       "      <td>(StandardScaler(), VarianceThreshold(threshold...</td>\n",
       "      <td>10.152746</td>\n",
       "      <td>0.774149</td>\n",
       "      <td>0.027422</td>\n",
       "      <td>(StandardScaler(), VarianceThreshold(threshold...</td>\n",
       "    </tr>\n",
       "  </tbody>\n",
       "</table>\n",
       "</div>"
      ],
      "text/plain": [
       "                      MODEL  OPTIMIZATION_TIME  ROC_AUC_MEAN  \\\n",
       "0          LGBMClassifier()       18652.492189      1.000000   \n",
       "3  RandomForestClassifier()       34609.124306      0.999962   \n",
       "2  DecisionTreeClassifier()        1381.801274      0.980083   \n",
       "1             BernoulliNB()         693.197641      0.974844   \n",
       "\n",
       "   ROC_AUC_MEAN_STD                                      BEST_PIPE_AUC  \\\n",
       "0      4.053961e-17  (StandardScaler(), VarianceThreshold(threshold...   \n",
       "3      4.759847e-05  (StandardScaler(), VarianceThreshold(threshold...   \n",
       "2      1.214245e-02  (StandardScaler(), VarianceThreshold(threshold...   \n",
       "1      6.748094e-03  (StandardScaler(), VarianceThreshold(threshold...   \n",
       "\n",
       "   VALIDATION_TIME   F2_MEAN    F2_STD  \\\n",
       "0        22.907795  0.993607  0.007219   \n",
       "3        36.919832  0.969150  0.019922   \n",
       "2        11.539083  0.956882  0.021606   \n",
       "1        10.152746  0.774149  0.027422   \n",
       "\n",
       "                                        BEST_PIPE_F2  \n",
       "0  (StandardScaler(), VarianceThreshold(threshold...  \n",
       "3  (StandardScaler(), VarianceThreshold(threshold...  \n",
       "2  (StandardScaler(), VarianceThreshold(threshold...  \n",
       "1  (StandardScaler(), VarianceThreshold(threshold...  "
      ]
     },
     "execution_count": 53,
     "metadata": {},
     "output_type": "execute_result"
    }
   ],
   "source": [
    "improved_results.sort_values('ROC_AUC_MEAN', ascending=False)"
   ]
  },
  {
   "cell_type": "code",
   "execution_count": 54,
   "metadata": {},
   "outputs": [],
   "source": [
    "improved_results.to_csv(\"Improved_results_frac_010_thres_005.csv\")"
   ]
  },
  {
   "cell_type": "code",
   "execution_count": null,
   "metadata": {},
   "outputs": [],
   "source": [
    "stop"
   ]
  },
  {
   "cell_type": "code",
   "execution_count": null,
   "metadata": {},
   "outputs": [],
   "source": []
  },
  {
   "cell_type": "code",
   "execution_count": 205,
   "metadata": {},
   "outputs": [
    {
     "data": {
      "text/plain": [
       "0.7924405903738442"
      ]
     },
     "execution_count": 205,
     "metadata": {},
     "output_type": "execute_result"
    }
   ],
   "source": [
    "scores_F2.mean()"
   ]
  },
  {
   "cell_type": "code",
   "execution_count": 48,
   "metadata": {},
   "outputs": [
    {
     "ename": "NameError",
     "evalue": "name 'best_pipe_AUC' is not defined",
     "output_type": "error",
     "traceback": [
      "\u001b[1;31m---------------------------------------------------------------------------\u001b[0m",
      "\u001b[1;31mNameError\u001b[0m                                 Traceback (most recent call last)",
      "\u001b[1;32m<ipython-input-48-38a41143b801>\u001b[0m in \u001b[0;36m<module>\u001b[1;34m\u001b[0m\n\u001b[1;32m----> 1\u001b[1;33m \u001b[0mbest_pipe_AUC\u001b[0m\u001b[1;33m\u001b[0m\u001b[1;33m\u001b[0m\u001b[0m\n\u001b[0m",
      "\u001b[1;31mNameError\u001b[0m: name 'best_pipe_AUC' is not defined"
     ]
    }
   ],
   "source": [
    "best_pipe_AUC "
   ]
  },
  {
   "cell_type": "code",
   "execution_count": 36,
   "metadata": {},
   "outputs": [],
   "source": []
  },
  {
   "cell_type": "code",
   "execution_count": 135,
   "metadata": {},
   "outputs": [],
   "source": [
    "pipe = Pipeline([\n",
    "('scaler', StandardScaler()),\n",
    "('selector', VarianceThreshold()),\n",
    "('classifier', BernoulliNB())\n",
    "])"
   ]
  },
  {
   "cell_type": "code",
   "execution_count": 136,
   "metadata": {},
   "outputs": [
    {
     "name": "stdout",
     "output_type": "stream",
     "text": [
      "Training set score: 0.9040804821993842\n",
      "Test set score: 0.9080385015608741\n"
     ]
    }
   ],
   "source": [
    "pipe.fit(X_train, y_train)\n",
    " \n",
    "print('Training set score: ' + str(pipe.score(X_train,y_train)))\n",
    "print('Test set score: ' + str(pipe.score(X_test,y_test)))"
   ]
  },
  {
   "cell_type": "code",
   "execution_count": 99,
   "metadata": {},
   "outputs": [],
   "source": [
    "parameters = {'scaler': [StandardScaler(), MinMaxScaler()],\n",
    "    'classifier__alpha': [0.01, 0.05, 0.1],\n",
    "    'classifier__binarize': [0.01, 0.25, 0.5]\n",
    "}"
   ]
  },
  {
   "cell_type": "code",
   "execution_count": 151,
   "metadata": {},
   "outputs": [],
   "source": [
    "parameters = {'selector__threshold': [0.0, 0.05, 0.1],\n",
    "    'classifier__alpha': [0.01, 0.05, 0.1],\n",
    "\n",
    "}"
   ]
  },
  {
   "cell_type": "code",
   "execution_count": 152,
   "metadata": {},
   "outputs": [
    {
     "name": "stdout",
     "output_type": "stream",
     "text": [
      "Training set score: 0.7578853842736561\n",
      "Test set score: 0.7564724919093851\n"
     ]
    }
   ],
   "source": [
    "metric = make_scorer(f2_measure)\n",
    "cv = RepeatedStratifiedKFold(n_splits=10, n_repeats=3, random_state=1)\n",
    "grid = GridSearchCV(pipe, parameters, cv=cv, scoring=metric).fit(X_train, y_train)\n",
    " \n",
    "print('Training set score: ' + str(grid.score(X_train, y_train)))\n",
    "print('Test set score: ' + str(grid.score(X_test, y_test)))"
   ]
  },
  {
   "cell_type": "code",
   "execution_count": 153,
   "metadata": {},
   "outputs": [
    {
     "name": "stdout",
     "output_type": "stream",
     "text": [
      "{'classifier__alpha': 0.01, 'selector__threshold': 0.0}\n",
      "Pipeline(steps=[('scaler', StandardScaler()), ('selector', VarianceThreshold()),\n",
      "                ('classifier', BernoulliNB(alpha=0.01))])\n"
     ]
    }
   ],
   "source": [
    "# Access the best set of parameters\n",
    "best_params = grid.best_params_\n",
    "print(best_params)\n",
    "# Stores the optimum model in best_pipe\n",
    "best_pipe = grid.best_estimator_\n",
    "print(best_pipe)"
   ]
  },
  {
   "cell_type": "code",
   "execution_count": 154,
   "metadata": {},
   "outputs": [],
   "source": [
    "scores_AUC, scores_F2 = evaluate_model(X, y, best_pipe)"
   ]
  },
  {
   "cell_type": "code",
   "execution_count": 155,
   "metadata": {},
   "outputs": [
    {
     "data": {
      "text/plain": [
       "0.7581664275201576"
      ]
     },
     "execution_count": 155,
     "metadata": {},
     "output_type": "execute_result"
    }
   ],
   "source": [
    "scores_F2.mean()"
   ]
  },
  {
   "cell_type": "code",
   "execution_count": null,
   "metadata": {},
   "outputs": [],
   "source": []
  },
  {
   "cell_type": "code",
   "execution_count": 156,
   "metadata": {},
   "outputs": [],
   "source": [
    "results = pd.DataFrame(columns=['MODEL','BEST_ESTIMATOR'])"
   ]
  },
  {
   "cell_type": "code",
   "execution_count": 157,
   "metadata": {},
   "outputs": [],
   "source": [
    "results_inter=[]\n",
    "results_inter.append('BernoulliNB()')\n",
    "results_inter.append(best_pipe)\n",
    "\n",
    "results_inter_2 = pd.DataFrame([results_inter], columns = results.columns) \n",
    "results = results.append(results_inter_2, ignore_index=True) "
   ]
  },
  {
   "cell_type": "code",
   "execution_count": 144,
   "metadata": {},
   "outputs": [],
   "source": [
    "essai = results.loc[0,'BEST_ESTIMATOR']"
   ]
  },
  {
   "cell_type": "code",
   "execution_count": 145,
   "metadata": {},
   "outputs": [
    {
     "data": {
      "text/plain": [
       "0.7581664275201576"
      ]
     },
     "execution_count": 145,
     "metadata": {},
     "output_type": "execute_result"
    }
   ],
   "source": [
    "scores_AUC, scores_F2 = evaluate_model(X, y, essai)\n",
    "scores_F2.mean()"
   ]
  },
  {
   "cell_type": "code",
   "execution_count": 158,
   "metadata": {},
   "outputs": [
    {
     "data": {
      "text/html": [
       "<div>\n",
       "<style scoped>\n",
       "    .dataframe tbody tr th:only-of-type {\n",
       "        vertical-align: middle;\n",
       "    }\n",
       "\n",
       "    .dataframe tbody tr th {\n",
       "        vertical-align: top;\n",
       "    }\n",
       "\n",
       "    .dataframe thead th {\n",
       "        text-align: right;\n",
       "    }\n",
       "</style>\n",
       "<table border=\"1\" class=\"dataframe\">\n",
       "  <thead>\n",
       "    <tr style=\"text-align: right;\">\n",
       "      <th></th>\n",
       "      <th>mean_fit_time</th>\n",
       "      <th>std_fit_time</th>\n",
       "      <th>mean_score_time</th>\n",
       "      <th>std_score_time</th>\n",
       "      <th>param_classifier__alpha</th>\n",
       "      <th>param_selector__threshold</th>\n",
       "      <th>params</th>\n",
       "      <th>split0_test_score</th>\n",
       "      <th>split1_test_score</th>\n",
       "      <th>split2_test_score</th>\n",
       "      <th>...</th>\n",
       "      <th>split23_test_score</th>\n",
       "      <th>split24_test_score</th>\n",
       "      <th>split25_test_score</th>\n",
       "      <th>split26_test_score</th>\n",
       "      <th>split27_test_score</th>\n",
       "      <th>split28_test_score</th>\n",
       "      <th>split29_test_score</th>\n",
       "      <th>mean_test_score</th>\n",
       "      <th>std_test_score</th>\n",
       "      <th>rank_test_score</th>\n",
       "    </tr>\n",
       "  </thead>\n",
       "  <tbody>\n",
       "    <tr>\n",
       "      <th>0</th>\n",
       "      <td>0.801206</td>\n",
       "      <td>0.028905</td>\n",
       "      <td>0.053710</td>\n",
       "      <td>0.004753</td>\n",
       "      <td>0.01</td>\n",
       "      <td>0</td>\n",
       "      <td>{'classifier__alpha': 0.01, 'selector__thresho...</td>\n",
       "      <td>0.756228</td>\n",
       "      <td>0.755814</td>\n",
       "      <td>0.762332</td>\n",
       "      <td>...</td>\n",
       "      <td>0.736196</td>\n",
       "      <td>0.752449</td>\n",
       "      <td>0.753119</td>\n",
       "      <td>0.757576</td>\n",
       "      <td>0.780399</td>\n",
       "      <td>0.764444</td>\n",
       "      <td>0.749551</td>\n",
       "      <td>0.758166</td>\n",
       "      <td>0.014374</td>\n",
       "      <td>1</td>\n",
       "    </tr>\n",
       "    <tr>\n",
       "      <th>1</th>\n",
       "      <td>0.799267</td>\n",
       "      <td>0.016573</td>\n",
       "      <td>0.054933</td>\n",
       "      <td>0.005334</td>\n",
       "      <td>0.01</td>\n",
       "      <td>0.05</td>\n",
       "      <td>{'classifier__alpha': 0.01, 'selector__thresho...</td>\n",
       "      <td>0.756228</td>\n",
       "      <td>0.755814</td>\n",
       "      <td>0.762332</td>\n",
       "      <td>...</td>\n",
       "      <td>0.736196</td>\n",
       "      <td>0.752449</td>\n",
       "      <td>0.753119</td>\n",
       "      <td>0.757576</td>\n",
       "      <td>0.780399</td>\n",
       "      <td>0.764444</td>\n",
       "      <td>0.749551</td>\n",
       "      <td>0.758166</td>\n",
       "      <td>0.014374</td>\n",
       "      <td>1</td>\n",
       "    </tr>\n",
       "  </tbody>\n",
       "</table>\n",
       "<p>2 rows × 40 columns</p>\n",
       "</div>"
      ],
      "text/plain": [
       "   mean_fit_time  std_fit_time  mean_score_time  std_score_time  \\\n",
       "0       0.801206      0.028905         0.053710        0.004753   \n",
       "1       0.799267      0.016573         0.054933        0.005334   \n",
       "\n",
       "  param_classifier__alpha param_selector__threshold  \\\n",
       "0                    0.01                         0   \n",
       "1                    0.01                      0.05   \n",
       "\n",
       "                                              params  split0_test_score  \\\n",
       "0  {'classifier__alpha': 0.01, 'selector__thresho...           0.756228   \n",
       "1  {'classifier__alpha': 0.01, 'selector__thresho...           0.756228   \n",
       "\n",
       "   split1_test_score  split2_test_score  ...  split23_test_score  \\\n",
       "0           0.755814           0.762332  ...            0.736196   \n",
       "1           0.755814           0.762332  ...            0.736196   \n",
       "\n",
       "   split24_test_score  split25_test_score  split26_test_score  \\\n",
       "0            0.752449            0.753119            0.757576   \n",
       "1            0.752449            0.753119            0.757576   \n",
       "\n",
       "   split27_test_score  split28_test_score  split29_test_score  \\\n",
       "0            0.780399            0.764444            0.749551   \n",
       "1            0.780399            0.764444            0.749551   \n",
       "\n",
       "   mean_test_score  std_test_score  rank_test_score  \n",
       "0         0.758166        0.014374                1  \n",
       "1         0.758166        0.014374                1  \n",
       "\n",
       "[2 rows x 40 columns]"
      ]
     },
     "execution_count": 158,
     "metadata": {},
     "output_type": "execute_result"
    }
   ],
   "source": [
    "test = pd.DataFrame(grid.cv_results_)\n",
    "test.head(2)"
   ]
  },
  {
   "cell_type": "code",
   "execution_count": 159,
   "metadata": {},
   "outputs": [],
   "source": [
    "import mglearn"
   ]
  },
  {
   "cell_type": "code",
   "execution_count": 160,
   "metadata": {},
   "outputs": [
    {
     "data": {
      "text/plain": [
       "<matplotlib.collections.PolyCollection at 0x2b92d5b48e0>"
      ]
     },
     "execution_count": 160,
     "metadata": {},
     "output_type": "execute_result"
    },
    {
     "data": {
      "image/png": "[encoded data removed]",
      "text/plain": [
       "<Figure size 432x288 with 1 Axes>"
      ]
     },
     "metadata": {
      "needs_background": "light"
     },
     "output_type": "display_data"
    }
   ],
   "source": [
    "scores = np.array(test.mean_test_score).reshape(3, 3)\n",
    "\n",
    "# plot the mean cross-validation scores\n",
    "mglearn.tools.heatmap(scores, xlabel='alpha', xticklabels=parameters['classifier__alpha'],\n",
    "                      ylabel='fit_prior', yticklabels=parameters['selector__threshold'], cmap=\"viridis\")"
   ]
  },
  {
   "cell_type": "markdown",
   "metadata": {},
   "source": [
    "Bernouilli dépend de alpha et pas de binarize.\n",
    "Bernouilli dépende de alpha et pas de fit_prior."
   ]
  },
  {
   "cell_type": "code",
   "execution_count": null,
   "metadata": {},
   "outputs": [],
   "source": []
  }
 ],
 "metadata": {
  "kernelspec": {
   "display_name": "Python 3",
   "language": "python",
   "name": "python3"
  },
  "language_info": {
   "codemirror_mode": {
    "name": "ipython",
    "version": 3
   },
   "file_extension": ".py",
   "mimetype": "text/x-python",
   "name": "python",
   "nbconvert_exporter": "python",
   "pygments_lexer": "ipython3",
   "version": "3.8.5"
  },
  "toc": {
   "base_numbering": 1,
   "nav_menu": {},
   "number_sections": true,
   "sideBar": true,
   "skip_h1_title": false,
   "title_cell": "Table of Contents",
   "title_sidebar": "Contents",
   "toc_cell": false,
   "toc_position": {
    "height": "calc(100% - 180px)",
    "left": "10px",
    "top": "150px",
    "width": "280px"
   },
   "toc_section_display": true,
   "toc_window_display": true
  }
 },
 "nbformat": 4,
 "nbformat_minor": 4
}
